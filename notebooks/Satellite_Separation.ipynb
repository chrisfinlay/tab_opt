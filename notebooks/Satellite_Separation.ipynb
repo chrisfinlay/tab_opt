{
 "cells": [
  {
   "cell_type": "code",
   "execution_count": 1,
   "id": "5c65c7a9",
   "metadata": {},
   "outputs": [],
   "source": [
    "from glob import glob\n",
    "import json\n",
    "from astropy import time\n",
    "from spacetrack import SpaceTrackClient\n",
    "import spacetrack.operators as op\n",
    "import pandas as pd\n",
    "import os\n",
    "import numpy as np\n",
    "\n",
    "from skyfield.api import load, wgs84\n",
    "from skyfield.api import EarthSatellite\n",
    "from skyfield.positionlib import position_of_radec\n",
    "from skyfield.units import Angle\n",
    "from datetime import timedelta\n",
    "import pytz\n",
    "import matplotlib.pyplot as plt"
   ]
  },
  {
   "cell_type": "code",
   "execution_count": 2,
   "id": "b1269a5f",
   "metadata": {},
   "outputs": [],
   "source": [
    "def get_archival_tles(start_date, end_date, norad_ids):\n",
    "    \"\"\"\n",
    "    Collect TLEs for a specific date range.\n",
    "    Parameters\n",
    "    ----------\n",
    "    start_date: Datetime object\n",
    "        Start date and time of observation.\n",
    "    end_date: Datetime object\n",
    "        End date and time of observation.\n",
    "    Returns\n",
    "    -------\n",
    "    file_path: str\n",
    "        File path to TLE file.\n",
    "    \"\"\"\n",
    "    st = SpaceTrackClient('cfinlay@ska.ac.za', 'SARAORFIsimulator')\n",
    "\n",
    "    drange = op.inclusive_range(start_date, end_date)\n",
    "\n",
    "    tles = [x for x in st.tle(norad_cat_id=norad_ids, iter_lines=True, epoch=drange, orderby='TLE_LINE1', format='tle')]\n",
    "    \n",
    "    ids = []\n",
    "    for i in range(int(len(tles)/2)):\n",
    "        ids.append(int(tles[1::2][i].split()[1]))\n",
    "\n",
    "    tles = pd.DataFrame(np.array([[tles[::2], tles[1::2]]])[0].T, index=ids)\n",
    "\n",
    "    tles = tles[~tles.index.duplicated()]\n",
    "    tles.index.name = 'NORAD_ID'\n",
    "    tles.columns = ['E1', 'E2']\n",
    "\n",
    "    return tles"
   ]
  },
  {
   "cell_type": "code",
   "execution_count": 3,
   "id": "1f748763",
   "metadata": {},
   "outputs": [],
   "source": [
    "constellation = 'glo'\n",
    "\n",
    "tle_files = {'gal': 'galileo.latest.tle',\n",
    "             'gps': 'gps.latest.tle',\n",
    "             'glo': 'glonass.latest.tle'}\n",
    "\n",
    "with open(tle_files[constellation], 'r') as f:\n",
    "    gal_tle = [x.rstrip('\\n') for x in f.readlines()]\n",
    "    \n",
    "gal_ids =[int(x.split(' ')[1]) for x in gal_tle[2::3]]\n",
    "gal_names = [x.split(' ')[0] for x in gal_tle[::3]]"
   ]
  },
  {
   "cell_type": "code",
   "execution_count": 4,
   "id": "152c72bb",
   "metadata": {},
   "outputs": [],
   "source": [
    "files = glob('summaries/1541342249_sdp_l0_scanID_*')\n",
    "obs_lists = []\n",
    "for file in files:\n",
    "    with open(file, 'r') as fp:\n",
    "        obs_lists.append(json.load(fp))"
   ]
  },
  {
   "cell_type": "code",
   "execution_count": 23,
   "id": "6c5f3b37",
   "metadata": {},
   "outputs": [
    {
     "name": "stdout",
     "output_type": "stream",
     "text": [
      "COSMOS 44299 missing. May not have launched yet.\n",
      "COSMOS 44850 missing. May not have launched yet.\n",
      "COSMOS 45358 missing. May not have launched yet.\n",
      "COSMOS 46805 missing. May not have launched yet.\n",
      "COSMOS 52984 missing. May not have launched yet.\n",
      "Found 21/26 unique satellite TLEs\n",
      "Maximum NORAD ID found : 43687\n"
     ]
    }
   ],
   "source": [
    "obs_id = 0\n",
    "\n",
    "t = time.Time([float(obs_lists[obs_id]['BeginTime']), float(obs_lists[obs_id]['EndTime'])], \n",
    "              format='mjd', scale=obs_lists[obs_id]['timeref'].lower())\n",
    "\n",
    "dt = time.TimeDelta(0, 3, format='jd', scale='local').datetime\n",
    "t_new = t[0].datetime + np.array([-dt, dt])\n",
    "\n",
    "df = get_archival_tles(*t_new, gal_ids)\n",
    "\n",
    "gal_tles = []\n",
    "for nid, name in zip(gal_ids,gal_names):\n",
    "    try:\n",
    "        gal_tles.append(pd.DataFrame(data=[df.T[nid],], index=[nid,]))\n",
    "    except:\n",
    "        print(f'{name} {nid} missing. May not have launched yet.')\n",
    "        pass\n",
    "gal_df = pd.concat(gal_tles)\n",
    "\n",
    "print(f'Found {len(df)}/{len(gal_ids)} unique satellite TLEs')\n",
    "print(f'Maximum NORAD ID found : {gal_df.index.max()}')"
   ]
  },
  {
   "cell_type": "code",
   "execution_count": 24,
   "id": "7841fded",
   "metadata": {},
   "outputs": [],
   "source": [
    "scan_ids = [[x for x in obs_lists[obs_id].keys() if 'scan' in x][0] for obs_id in range(len(obs_lists))]"
   ]
  },
  {
   "cell_type": "code",
   "execution_count": 25,
   "id": "54070c15",
   "metadata": {},
   "outputs": [
    {
     "data": {
      "text/plain": [
       "array([7])"
      ]
     },
     "execution_count": 25,
     "metadata": {},
     "output_type": "execute_result"
    }
   ],
   "source": [
    "np.where(np.array(scan_ids)=='scan_104')[0]"
   ]
  },
  {
   "cell_type": "code",
   "execution_count": 30,
   "id": "82db963b",
   "metadata": {},
   "outputs": [
    {
     "data": {
      "image/png": "[encoded data removed]",
      "text/plain": [
       "<Figure size 640x480 with 1 Axes>"
      ]
     },
     "metadata": {},
     "output_type": "display_data"
    }
   ],
   "source": [
    "all_obs_ang_sep = []\n",
    "\n",
    "# for obs_id in range(len(obs_lists)):\n",
    "for obs_id in np.where(np.array(scan_ids)=='scan_104')[0]:\n",
    "\n",
    "    field_id = [x for x in obs_lists[obs_id].keys() if 'field_' in x][0]\n",
    "    scan_id = [x for x in obs_lists[obs_id].keys() if 'scan' in x][0]\n",
    "    \n",
    "    t = time.Time([float(obs_lists[obs_id]['BeginTime']), float(obs_lists[obs_id]['EndTime'])], \n",
    "                  format='mjd', scale=obs_lists[obs_id]['timeref'].lower())\n",
    "\n",
    "    dt = time.TimeDelta(0, 2, format='jd', scale='local').datetime\n",
    "    t_new = t[0].datetime + np.array([-dt, dt])\n",
    "\n",
    "    ts = load.timescale()\n",
    "\n",
    "    dt_secs = 10\n",
    "    times = [t[0].to_datetime(pytz.utc)+i*timedelta(seconds=dt_secs) for i in range(int(np.ceil((t[-1]-t[0]).datetime.seconds/dt_secs)))]\n",
    "    times = ts.from_datetimes(times)\n",
    "\n",
    "    meerkat = wgs84.latlon(-33.9322, 18.5105)\n",
    "\n",
    "    phase_centre = [float(obs_lists[obs_id][field_id]['direction']['m0']['value']),\n",
    "                    float(obs_lists[obs_id][field_id]['direction']['m1']['value'])]\n",
    "    target = position_of_radec(Angle(radians=phase_centre[0])._hours, \n",
    "                               Angle(radians=phase_centre[1]).degrees,\n",
    "                               epoch=None, t=None, center=None, target=None)\n",
    "\n",
    "    satellites = [EarthSatellite(gal_df.iloc[sat_id]['E1'], \n",
    "                                gal_df.iloc[sat_id]['E2'], \n",
    "                                str(gal_df.index[sat_id]), ts) for sat_id in range(len(gal_df))]\n",
    "\n",
    "    ang_sep = np.array([(satellite - meerkat).at(times).separation_from(target).degrees for satellite in satellites])\n",
    "\n",
    "#     print(f'Observation starts {(t[0].to_datetime(pytz.utc)-satellite.epoch.utc_datetime())} away from TLE epoch.')\n",
    "    \n",
    "    ang_times = (times.toordinal()-times.toordinal()[0])*24*3600\n",
    "    all_obs_ang_sep.append(ang_sep)\n",
    "    if np.min(ang_sep)<100:\n",
    "        plt.figure()\n",
    "        plt.title(f'{scan_id} : {np.round(np.rad2deg(phase_centre),2)}')\n",
    "        plt.plot(ang_times, ang_sep.T, '.-');\n",
    "        plt.ylim(8, 8.4)"
   ]
  },
  {
   "cell_type": "code",
   "execution_count": 31,
   "id": "ff7caa0a",
   "metadata": {},
   "outputs": [
    {
     "name": "stdout",
     "output_type": "stream",
     "text": [
      "GLONASS min sep on scan_104 is 8.067399122945671\n"
     ]
    }
   ],
   "source": [
    "print(f'GLONASS min sep on {scan_id} is {np.min(ang_sep)}')"
   ]
  },
  {
   "cell_type": "code",
   "execution_count": 13,
   "id": "82a90958",
   "metadata": {},
   "outputs": [
    {
     "name": "stdout",
     "output_type": "stream",
     "text": [
      "GPS min sep on scan_104 is 32.16043081719109\n"
     ]
    }
   ],
   "source": [
    "print(f'GPS min sep on {scan_id} is {np.min(ang_sep)}')"
   ]
  },
  {
   "cell_type": "code",
   "execution_count": 20,
   "id": "80e69e2f",
   "metadata": {},
   "outputs": [
    {
     "name": "stdout",
     "output_type": "stream",
     "text": [
      "Galileo min sep on scan_104 is 23.8710650718184\n"
     ]
    }
   ],
   "source": [
    "print(f'Galileo min sep on {scan_id} is {np.min(ang_sep)}')"
   ]
  },
  {
   "cell_type": "code",
   "execution_count": 19,
   "id": "7332a7b5",
   "metadata": {},
   "outputs": [],
   "source": [
    "min_ang_sep = [np.min(a_s) for a_s in all_obs_ang_sep]"
   ]
  },
  {
   "cell_type": "code",
   "execution_count": 23,
   "id": "b43b9b9a",
   "metadata": {},
   "outputs": [
    {
     "data": {
      "text/plain": [
       "'scan_24'"
      ]
     },
     "execution_count": 23,
     "metadata": {},
     "output_type": "execute_result"
    }
   ],
   "source": [
    "scan_ids[np.argmin(min_ang_sep)]"
   ]
  },
  {
   "cell_type": "code",
   "execution_count": 10,
   "id": "77e2e870",
   "metadata": {},
   "outputs": [
    {
     "name": "stdout",
     "output_type": "stream",
     "text": [
      "['{\"BeginTime\": \"58427.20482169209\", \"EndTime\": \"58427.2055621196\", \"IntegrationTime\": \"63.97293663024902\", \"field_1\": {\"code\": \"T\", \"direction\": {\"m0\": {\"unit\": \"rad\", \"value\": \"0.7538477010650424\"}, \"m1\": {\"unit\": \"rad\", \"value\": \"-1.2405184609800683\"}, \"refer\": \"J2000\", \"type\": \"direction\"}, \"name\": \"J0252-7104\"}, \"nfields\": \"1\", \"numrecords\": \"15624\", \"scan_104\": {\"0\": {\"BeginTime\": \"58427.20482169209\", \"EndTime\": \"58427.2055621196\", \"FieldId\": \"1\", \"FieldName\": \"J0252-7104\", \"IntegrationTime\": \"7.996616971999901\", \"SpwIds\": \"[0]\", \"StateId\": \"2\", \"nRow\": \"15624\", \"scanId\": \"104\"}}, \"timeref\": \"UTC\"}']\n"
     ]
    }
   ],
   "source": [
    "with open('summaries/1541342249_sdp_l0_scanID_104.json', 'r') as fp:\n",
    "\n",
    "    print(fp.readlines())"
   ]
  },
  {
   "cell_type": "code",
   "execution_count": null,
   "id": "d596e978",
   "metadata": {},
   "outputs": [],
   "source": []
  }
 ],
 "metadata": {
  "kernelspec": {
   "display_name": "Python 3 (ipykernel)",
   "language": "python",
   "name": "python3"
  },
  "language_info": {
   "codemirror_mode": {
    "name": "ipython",
    "version": 3
   },
   "file_extension": ".py",
   "mimetype": "text/x-python",
   "name": "python",
   "nbconvert_exporter": "python",
   "pygments_lexer": "ipython3",
   "version": "3.10.8"
  }
 },
 "nbformat": 4,
 "nbformat_minor": 5
}
