{
 "cells": [
  {
   "cell_type": "code",
   "execution_count": 1,
   "id": "0fdc3dbe",
   "metadata": {},
   "outputs": [
    {
     "name": "stdout",
     "output_type": "stream",
     "text": [
      "\n",
      "Start Time : 2023-05-28 16:39:51.174359\n"
     ]
    }
   ],
   "source": [
    "from datetime import datetime\n",
    "\n",
    "print()\n",
    "start = datetime.now()\n",
    "print(f'Start Time : {start}')"
   ]
  },
  {
   "cell_type": "code",
   "execution_count": 2,
   "id": "f73029d4",
   "metadata": {},
   "outputs": [],
   "source": [
    "from tabascal.optimize.mcmc import inv_kernel_vmap, inv_kernel, log_normal, log_multinorm, log_multinorm_sum\n",
    "from tabascal.jax.coordinates import orbit\n",
    "from tabascal.utils.jax import progress_bar_scan\n",
    "\n",
    "from jax import random, jit, vmap, jacrev\n",
    "import jax.numpy as jnp\n",
    "\n",
    "from jax.flatten_util import ravel_pytree as flatten\n",
    "from jax.lax import scan\n",
    "\n",
    "from jax.tree_util import tree_map\n",
    "import jax\n",
    "\n",
    "from functools import partial\n",
    "\n",
    "import matplotlib.pyplot as plt\n",
    "import numpy as np\n",
    "from tqdm import tqdm\n",
    "import h5py\n",
    "\n",
    "plt.rcParams['font.size'] = 16"
   ]
  },
  {
   "cell_type": "code",
   "execution_count": 3,
   "id": "e6b4b0a7-2279-4777-af8d-4cc681e235b0",
   "metadata": {},
   "outputs": [],
   "source": [
    "import xarray as xr "
   ]
  },
  {
   "cell_type": "code",
   "execution_count": 4,
   "id": "b972abd5-1595-4b18-a1b5-bd5bc3b398b3",
   "metadata": {},
   "outputs": [],
   "source": [
    "f_name = \"/Users/chrisfinlay/Documents/PhD/tabascal/tabascal/tabascal/examples/target_obs_08A_450T-0440-1338_128I_001F-1.227e+09-1.227e+09_100AST_1SAT_0GRD/\"\n",
    "\n",
    "ds = xr.open_zarr(f_name)"
   ]
  },
  {
   "cell_type": "code",
   "execution_count": 5,
   "id": "f68b42e9-4594-4816-b314-87e4567be093",
   "metadata": {},
   "outputs": [],
   "source": [
    "sampling = 1\n",
    "\n",
    "N_int_samples = ds.attrs[\"n_int_samples\"]//sampling\n",
    "N_ant = ds.attrs[\"n_ant\"]\n",
    "N_bl = ds.attrs[\"n_bl\"]\n",
    "N_time = ds.attrs[\"n_time\"]\n",
    "times = ds.coords[\"time\"].data\n",
    "times_fine = ds.coords[\"time_fine\"].data[::sampling]\n",
    "bl_uvw = ds.bl_uvw.data.compute()[::sampling]\n",
    "ants_uvw = ds.ants_uvw.data.compute()[::sampling]\n",
    "ants_xyz = ds.ants_xyz.data.compute()[::sampling]\n",
    "vis_ast = ds.vis_ast.data.compute()[::sampling]\n",
    "vis_rfi = ds.vis_rfi.data.compute()[::sampling]\n",
    "vis_obs = ds.vis_obs.data.compute()\n",
    "noise = ds.noise_std.data.compute()\n",
    "int_time = ds.attrs[\"int_time\"]\n",
    "freqs = ds.coords[\"freq\"].data\n",
    "gains_ants = ds.gains_ants.data.compute()[::sampling]\n",
    "rfi_A_app = ds.rfi_sat_A.data.compute()[0,::sampling]\n",
    "rfi_orbit = ds.rfi_sat_orbit.data.compute()[0]"
   ]
  },
  {
   "cell_type": "code",
   "execution_count": 6,
   "id": "8468a043-23b2-4e3c-bced-1996b925c8de",
   "metadata": {},
   "outputs": [],
   "source": [
    "from tabascal.jax.interferometry import ants_to_bl\n",
    "a1 = ds.antenna1.data.compute()\n",
    "a2 = ds.antenna2.data.compute()\n",
    "gains_bl = ants_to_bl(gains_ants.reshape(N_time, -1, N_ant, 1).mean(axis=1), a1, a2)\n",
    "\n",
    "v_ast = vis_ast.reshape(N_time,-1,N_bl,1).mean(axis=1)\n",
    "\n",
    "v_cal = vis_obs/gains_bl\n",
    "\n",
    "flags = jnp.where(jnp.abs(v_ast-v_cal)>3*noise, True, False)"
   ]
  },
  {
   "cell_type": "code",
   "execution_count": 7,
   "id": "23e51e23-8cee-459e-9a63-1ceb1be321cf",
   "metadata": {},
   "outputs": [],
   "source": [
    "rng = np.random.default_rng(123)\n",
    "rfi_gains = np.exp(1.j*times_fine/100.)[:,None,None] * np.exp(2.j*np.pi*rng.uniform(size=N_ant))[None,:,None]\n",
    "\n",
    "v_rfi = rfi_gains[:,a1]*np.conj(rfi_gains[:,a2])*vis_rfi"
   ]
  },
  {
   "cell_type": "code",
   "execution_count": 8,
   "id": "2370988b-e228-4631-8291-f5a61fd271c6",
   "metadata": {},
   "outputs": [],
   "source": [
    "v_obs = ( gains_ants[:,a1]*np.conj(gains_ants[:,a2]) * (vis_ast + v_rfi) ).reshape(N_time, N_int_samples, N_bl, 1).mean(axis=1) + ds.noise_data.data.compute()"
   ]
  },
  {
   "cell_type": "code",
   "execution_count": 9,
   "id": "7fbe3923-60fe-4d64-b342-5f2ddbcfcc95",
   "metadata": {},
   "outputs": [
    {
     "name": "stdout",
     "output_type": "stream",
     "text": [
      "Mean RFI Amp. : 119 Jy\n",
      "Flag Rate :     92.90 %\n"
     ]
    }
   ],
   "source": [
    "print(f'Mean RFI Amp. : {jnp.mean(jnp.abs(v_rfi)):.0f} Jy\\nFlag Rate :     {100*flags.mean():.2f} %')"
   ]
  },
  {
   "cell_type": "code",
   "execution_count": 10,
   "id": "5de91e1d",
   "metadata": {},
   "outputs": [
    {
     "name": "stdout",
     "output_type": "stream",
     "text": [
      "\n",
      "Number of Antennas: 8\n",
      "\n",
      "Number of Time Steps: 450\n"
     ]
    }
   ],
   "source": [
    "print()\n",
    "print(f'Number of Antennas: {N_ant}')\n",
    "print()\n",
    "print(f'Number of Time Steps: {N_time}')"
   ]
  },
  {
   "cell_type": "code",
   "execution_count": 11,
   "id": "fc7284b3",
   "metadata": {},
   "outputs": [],
   "source": [
    "@jit\n",
    "def kernel(x, x_, var, l, noise=1e-3):\n",
    "    '''\n",
    "    x: array (n_points, n_dim)\n",
    "    '''\n",
    "    x = x[:,None] if x.ndim==1 else x\n",
    "    x_ = x_[:,None] if x_.ndim==1 else x_\n",
    "    chi = jnp.linalg.norm(x[None,:,:]-x_[:,None,:], axis=-1) / l\n",
    "    cov = jnp.abs(var)*jnp.exp(-0.5*chi**2)\n",
    "    if chi.shape[0]==chi.shape[1]:\n",
    "        cov += noise*jnp.eye(x.shape[0])\n",
    "    return cov\n",
    "\n",
    "@jit\n",
    "def resampling_kernel(x, x_, var, l, noise=1e-3):\n",
    "    K_inv = jnp.linalg.inv(kernel(x, x, var, l, noise))\n",
    "    K_s = kernel(x, x_, var, l)\n",
    "    return K_s@K_inv"
   ]
  },
  {
   "cell_type": "code",
   "execution_count": 12,
   "id": "e8e4dda3",
   "metadata": {},
   "outputs": [],
   "source": [
    "@jit\n",
    "def gp_resample(y, x, x_, var, l, noise=1e-3):\n",
    "    K_inv = jnp.linalg.inv(kernel(x, x, var, l, noise))\n",
    "    K_s = kernel(x, x_, var, l)\n",
    "    return K_s@K_inv@y\n",
    "\n",
    "@jit\n",
    "def resampled_cov(x, x_, var, l, noise_cov):\n",
    "    K = kernel(x, x, var, l, 1e-3)\n",
    "    K_inv = jnp.linalg.inv(K + noise_cov)\n",
    "    K_s = kernel(x, x_, var, l)\n",
    "    K_ss = kernel(x_, x_, var, l)\n",
    "    return K_ss - K_s@K_inv@K_s.T"
   ]
  },
  {
   "cell_type": "code",
   "execution_count": 13,
   "id": "da5ac2be-b399-4be9-b25f-83fa2bc39f8b",
   "metadata": {},
   "outputs": [],
   "source": [
    "def l_from_uv(uv, l0=7e2, a=6e-4):\n",
    "    return l0*jnp.exp(-a*uv)\n",
    "\n",
    "def get_times(gp_l, times):\n",
    "    \n",
    "    int_time = times[1] - times[0]\n",
    "    t_i = times[0] - int_time/2\n",
    "    t_f = times[-1] + int_time/2\n",
    "    n_vis_times = jnp.ceil(2. * ((t_f - t_i)/gp_l) + 1).astype(int)\n",
    "    vis_times = jnp.linspace(t_i, t_f, n_vis_times)\n",
    "    \n",
    "    return vis_times\n",
    "\n",
    "def fringe_phasor(w, freq):\n",
    "    \n",
    "    from tabascal.jax.interferometry import c\n",
    "    phasor = jnp.exp(-2.j*jnp.pi*freq/c*w)\n",
    "    \n",
    "    return phasor\n",
    "\n",
    "def derotated_vis_phase(vis, w, freq):\n",
    "    \n",
    "    derotated_vis = vis*fringe_phasor(w, freq)\n",
    "    phase = jnp.unwrap(jnp.angle(derotated_vis), discont=0.0)\n",
    "    \n",
    "    return phase\n",
    "\n",
    "def derotated_vis(vis, w, freq):\n",
    "    \n",
    "    return vis*fringe_phasor(w, freq)"
   ]
  },
  {
   "cell_type": "code",
   "execution_count": 14,
   "id": "6f099d58",
   "metadata": {},
   "outputs": [],
   "source": [
    "@jit\n",
    "def rfi_closures(q, params, ants):\n",
    "\n",
    "    # rfi_amp = flatten(q['rfi_amp'])[0].reshape(N_ant,N_rfi_time)[ants]\n",
    "    # rfi_amp = (params['resample_rfi']@rfi_amp.T).T\n",
    "    \n",
    "    rfi_real = flatten(q['rfi_real'])[0].reshape(N_ant,N_rfi_time)[ants]\n",
    "    rfi_imag = flatten(q['rfi_imag'])[0].reshape(N_ant,N_rfi_time)[ants]\n",
    "    rfi_amp = (params['resample_rfi']@(rfi_real + 1.j*rfi_imag).T).T\n",
    "\n",
    "    rfi_xyz = orbit(params['times_fine'], *q['rfi_orbit'])\n",
    "    distances = jnp.linalg.norm(params['ants_xyz'][:,ants]-rfi_xyz[:,None,:], axis=2)\n",
    "    c_distances = (distances-params['phase_corrections'][:,ants])[...,None]\n",
    "\n",
    "    return rfi_amp, c_distances\n",
    "\n",
    "@jit\n",
    "def rfi_vis(app_amplitude, c_distances, freqs):\n",
    "    '''\n",
    "    Calculate visibilities from distances to rfi sources.\n",
    "\n",
    "    Parameters:\n",
    "    -----------\n",
    "    app_amplitude: jnp.array (n_time, 2, n_freq, n_src)\n",
    "        Apparent amplitude at the antennas.\n",
    "    c_distances: jnp.array (n_time, 2, n_src)\n",
    "        The phase corrected distances between the rfi sources and the antennas.\n",
    "    freqs: jnp.array (n_freq,)\n",
    "        Frequencies.\n",
    "\n",
    "    Returns:\n",
    "    --------\n",
    "    vis: jnp.array (n_time, 1, n_freq)\n",
    "        The visibilities.\n",
    "    '''\n",
    "    n_time, n_ant, n_freq, n_src = app_amplitude.shape\n",
    "    c = 2.99792458e8\n",
    "\n",
    "    # Create array of shape (n_time, n_bl, n_freq, n_src) and then sum over n_src\n",
    "\n",
    "    minus_two_pi_over_lamda = (-2.0*jnp.pi*freqs/c).reshape(1,1,n_freq,1)\n",
    "\n",
    "    c_distances = c_distances.reshape(n_time,n_ant,1,n_src)\n",
    "\n",
    "    phase = minus_two_pi_over_lamda*(c_distances[:,0]-c_distances[:,1])\n",
    "    intensities_app = app_amplitude[:,0]*jnp.conj(app_amplitude[:,1])\n",
    "\n",
    "    vis = jnp.sum(intensities_app*jnp.exp(1.j*phase), axis=-1)\n",
    "\n",
    "    return vis\n",
    "\n",
    "@jit\n",
    "def baseline_gains(q, params, ants):\n",
    "    \n",
    "    G_amp = flatten(q['g_amp'])[0].reshape(N_ant, N_g_time)[ants]\n",
    "    G_phase = flatten(q['g_phase'])[0].reshape(N_ant-1, N_g_time)\n",
    "    G_phase = jnp.concatenate([G_phase, jnp.zeros((1, N_g_time))], axis=0)[ants]\n",
    "    \n",
    "    G_amp = (params['resample_g_amp']@G_amp.T).T\n",
    "    G_phase = (params['resample_g_phase']@G_phase.T).T\n",
    "    \n",
    "\n",
    "    G = G_amp*jnp.exp(1.j*G_phase)\n",
    "    \n",
    "    return G[0]*jnp.conjugate(G[1])\n",
    "\n",
    "@jit\n",
    "def pad_vis(vis):\n",
    "    \n",
    "    return jnp.pad(vis, (0, N_vis_time-vis.shape[0]))\n",
    "\n",
    "@jit\n",
    "def rfi_vis_model(q, params, ant1, ant2):\n",
    "    \n",
    "    q = scale_parameters(q, inv_scalings)\n",
    "    \n",
    "    ants = jnp.array([ant1, ant2])\n",
    "    \n",
    "    rfi_amp, c_distances = rfi_closures(q, params, ants)\n",
    "    V_rfi = rfi_vis(rfi_amp.T[:,:,None,None], c_distances, params['freqs'])[...,0]\n",
    "    \n",
    "    return V_rfi\n",
    "\n",
    "@jit\n",
    "def ast_vis_model(q, params, bl):\n",
    "\n",
    "    V_real = flatten(tree_map(pad_vis, q['v_real']))[0].reshape(N_bl, N_vis_time)[bl]\n",
    "    V_imag = flatten(tree_map(pad_vis, q['v_imag']))[0].reshape(N_bl, N_vis_time)[bl]\n",
    "    V_ast = V_real + 1.j*V_imag\n",
    "    \n",
    "    V_ast = params['resample_vis'][bl]@V_ast\n",
    "    \n",
    "    return V_ast\n",
    "\n",
    "@jit\n",
    "def model(q, params, ant1, ant2, bl):\n",
    "    \n",
    "    q = scale_parameters(q, inv_scalings)\n",
    "\n",
    "    ants = jnp.array([ant1, ant2])\n",
    "    \n",
    "    V_real = flatten(tree_map(pad_vis, q['v_real']))[0].reshape(N_bl, N_vis_time)[bl]\n",
    "    V_imag = flatten(tree_map(pad_vis, q['v_imag']))[0].reshape(N_bl, N_vis_time)[bl]\n",
    "    V_ast = V_real + 1.j*V_imag\n",
    "    \n",
    "    V_ast = params['resample_vis'][bl]@V_ast\n",
    "\n",
    "#     Calculate the visibility contribution from the RFI\n",
    "    rfi_amp, c_distances = rfi_closures(q, params, ants)\n",
    "    V_rfi = rfi_vis(rfi_amp.T[:,:,None,None], c_distances, params['freqs'])[...,0]\n",
    "    V_rfi = V_rfi.reshape(N_time, N_int_samples).mean(axis=1)\n",
    "\n",
    "    G_bl = baseline_gains(q, params, ants)\n",
    "\n",
    "    model_vis = (G_bl*(V_ast+V_rfi))\n",
    "\n",
    "    return jnp.concatenate([model_vis.real.flatten(), model_vis.imag.flatten()])\n",
    "\n",
    "# @jit\n",
    "def scale_parameters(q, scalings):\n",
    "    q['g_amp'] = tree_map(lambda x: scalings['g_amp']*x, q['g_amp'])\n",
    "    q['g_phase'] = tree_map(lambda x: scalings['g_phase']*x, q['g_phase'])\n",
    "    q['rfi_orbit'] = scalings['rfi_orbit']@q['rfi_orbit']\n",
    "    return q"
   ]
  },
  {
   "cell_type": "code",
   "execution_count": 15,
   "id": "44edd00d-4d0b-4d16-b8fd-d5a41f6f3932",
   "metadata": {},
   "outputs": [],
   "source": [
    "scalings = {'g_amp': jnp.array([100.]),\n",
    "            'g_phase': jnp.rad2deg(1.),\n",
    "            'rfi_orbit': jnp.diag(jnp.array([1e-2, 3600e0, 3600e1, 3600e1]))}\n",
    "\n",
    "# scalings = {'g_amp': jnp.array([1.]),\n",
    "#             'g_phase': jnp.array([1.]),\n",
    "#             'rfi_orbit': jnp.eye(4)}\n",
    "\n",
    "inv_scalings = tree_map(lambda x: jnp.linalg.inv(x) if x.ndim==2 else 1./x, scalings)\n",
    "\n",
    "# Calculate approximate True values\n",
    "\n",
    "def l_from_uv(uv, l0=7e2, a=6e-4):\n",
    "    return l0*jnp.exp(-a*uv)\n",
    "\n",
    "a1, a2 = jnp.triu_indices(N_ant, 1)\n",
    "mag_uvw = jnp.linalg.norm(ants_uvw[0, a1] - ants_uvw[0, a2], axis=-1)\n",
    "vis_var = (jnp.abs(vis_ast).max(axis=(0,2)) + noise)**2\n",
    "vis_l = l_from_uv(mag_uvw, l0=5e2)\n",
    "\n",
    "g_amp_var = (0.01*scalings['g_amp'])**2\n",
    "g_phase_var = (jnp.deg2rad(1.)*scalings['g_phase'])**2\n",
    "g_l = 10e3\n",
    "\n",
    "rfi_var, rfi_l = 1e6, 15.\n",
    "\n",
    "T_time = times[-1]-times[0]+int_time\n",
    "n_vis_times = jnp.ceil(2.*T_time/vis_l).astype(int)\n",
    "get_times = partial(jnp.linspace, *(times[0]-int_time/2, times[-1]+int_time/2))\n",
    "vis_times = tuple(map(get_times, n_vis_times))\n",
    "N_vis_time = int(n_vis_times.max())\n",
    "\n",
    "vis_idxs = [jnp.floor(jnp.linspace(0, len(times_fine)-1, n_vis_times[i])).astype(int) for i in range(N_bl)]\n",
    "\n",
    "Nt_fine = len(times_fine)\n",
    "#####\n",
    "Nt_g = N_int_samples*45\n",
    "# Nt_g = N_int_samples * 150\n",
    "g_idx = jnp.array(list(np.arange(0, Nt_fine, Nt_g)) + \\\n",
    "                [Nt_fine-1,])\n",
    "times_g = times_fine[g_idx]\n",
    "N_g_time = len(times_g)\n",
    "G = gains_ants[g_idx,:,0].T\n",
    "#####\n",
    "Nt_rfi = N_int_samples # 2\n",
    "rfi_idx = jnp.array(list(np.arange(0, Nt_fine, Nt_rfi)) + \\\n",
    "                [Nt_fine-1,])\n",
    "times_rfi = times_fine[rfi_idx]\n",
    "N_rfi_time = len(times_rfi)\n",
    "rfi_A = rfi_A_app[rfi_idx,:,0].T\n",
    "\n",
    "rfi_signal = rfi_A_app*rfi_gains\n",
    "rfi_real = rfi_signal[rfi_idx,:,0].T.real\n",
    "rfi_imag = rfi_signal[rfi_idx,:,0].T.imag\n",
    "\n",
    "######\n",
    "true_values = {'g_amp': {i: x for i, x in enumerate(jnp.abs(G))},\n",
    "               'g_phase': {i: x for i, x in enumerate(jnp.angle(G[:-1]))},\n",
    "               # 'rfi_amp': {i: x for i, x in enumerate(rfi_A)},\n",
    "               'rfi_real': {i: x for i, x in enumerate(rfi_real)},\n",
    "               'rfi_imag': {i: x for i, x in enumerate(rfi_imag)},\n",
    "               'rfi_orbit': rfi_orbit,\n",
    "               'v_real': {i: vis_ast.real[vis_idxs[i],i,0] for i in range(N_bl)},\n",
    "               'v_imag': {i: vis_ast.imag[vis_idxs[i],i,0] for i in range(N_bl)}\n",
    "               }\n",
    "\n",
    "true_values = scale_parameters(true_values, scalings)\n",
    "flat_true_values, unflatten = flatten(true_values)\n",
    "\n",
    "####################################################################"
   ]
  },
  {
   "cell_type": "code",
   "execution_count": 16,
   "id": "7978fc07-fd23-454a-9fad-fd6c2d3cbb08",
   "metadata": {},
   "outputs": [
    {
     "data": {
      "text/plain": [
       "(334, 1008, 12600, 0.33134920634920634, 0.026507936507936508)"
      ]
     },
     "execution_count": 16,
     "metadata": {},
     "output_type": "execute_result"
    }
   ],
   "source": [
    "# Set Constant Parameters\n",
    "params = {'freqs': freqs,\n",
    "          'times_fine': times_fine,\n",
    "          'noise': noise if noise>0 else 0.2,\n",
    "          'ants_xyz': ants_xyz,\n",
    "          'phase_corrections': ants_uvw[...,-1],\n",
    "          # 'vis_obs': vis_obs[:,:,0],\n",
    "          'vis_obs': v_obs[:,:,0],\n",
    "          }\n",
    "\n",
    "def sym(x):\n",
    "    return (x + x.T)/2.\n",
    "\n",
    "rfi_cov_fp = '/Users/chrisfinlay/Documents/PhD/tabascal/tabascal/notebooks/data/RFIcov5min.npy'\n",
    "\n",
    "cov_RFI_orbit = scalings['rfi_orbit']@np.load(rfi_cov_fp)@scalings['rfi_orbit']\n",
    "inv_cov_RFI_orbit = sym(jnp.linalg.inv(cov_RFI_orbit))\n",
    "rfi_orbit = rfi_orbit\n",
    "\n",
    "prior_params = {'mu_RFI_orbit': scalings['rfi_orbit']@rfi_orbit,\n",
    "                'inv_cov_RFI_orbit': inv_cov_RFI_orbit,\n",
    "                'mu_G_amp': scalings['g_amp']*jnp.abs(G),\n",
    "                'mu_G_phase': scalings['g_phase']*jnp.angle(G)[:-1],\n",
    "                'rfi_amp_std': 100.0,\n",
    "                'mu_vis': {i: jnp.zeros(len(vis_times[i])) for i in range(N_bl)},\n",
    "                'inv_cov_vis': {i: inv_kernel(vis_times[i][:,None], vis_var[i], \n",
    "                                              vis_l[i]) for i in range(N_bl)},\n",
    "                'inv_cov_G_amp': inv_kernel(times_g[:,None],\n",
    "                                            g_amp_var, g_l),\n",
    "                'inv_cov_G_phase': inv_kernel(times_g[:,None],\n",
    "                                              g_phase_var, g_l),\n",
    "                'resample_vis': {i: resampling_kernel(vis_times[i], times, vis_var[i], \n",
    "                                                      vis_l[i], 1e-3) for i in range(N_bl)},\n",
    "                'resample_g_amp': resampling_kernel(times_g, \n",
    "                                                    times, \n",
    "                                                    g_amp_var, g_l, 1e-8),\n",
    "                'resample_g_phase': resampling_kernel(times_g, \n",
    "                                                      times, \n",
    "                                                      g_phase_var, g_l, 1e-8),\n",
    "                'resample_rfi': resampling_kernel(times_rfi, \n",
    "                                                  params['times_fine'], \n",
    "                                                  rfi_var, rfi_l, 1e-6)\n",
    "               }\n",
    "\n",
    "prior_params['resample_vis'] = jnp.array([jnp.pad(x, ((0,0),(0,N_vis_time-x.shape[1]))) \n",
    "                                          for x in prior_params['resample_vis'].values()])\n",
    "\n",
    "params.update(prior_params)\n",
    "\n",
    "flatten(true_values['v_real'])[0].shape[0], N_vis_time*N_bl, N_time*N_bl, \\\n",
    "flatten(true_values['v_real'])[0].shape[0]/(N_vis_time*N_bl), \\\n",
    "flatten(true_values['v_real'])[0].shape[0]/(N_time*N_bl)"
   ]
  },
  {
   "cell_type": "code",
   "execution_count": 17,
   "id": "1a5b932b",
   "metadata": {},
   "outputs": [
    {
     "name": "stdout",
     "output_type": "stream",
     "text": [
      "\n",
      "Max and Min Vis samples : (36, 4)\n"
     ]
    }
   ],
   "source": [
    "print()\n",
    "print(f'Max and Min Vis samples : ({int(n_vis_times.max())}, {int(n_vis_times.min())})')"
   ]
  },
  {
   "cell_type": "code",
   "execution_count": 18,
   "id": "08f56291",
   "metadata": {},
   "outputs": [],
   "source": [
    "inv_cov_vis = jnp.array([jnp.pad(x, ((0,N_vis_time-x.shape[0]),(0,N_vis_time-x.shape[1]))) \n",
    "                                          for x in prior_params['inv_cov_vis'].values()])"
   ]
  },
  {
   "cell_type": "code",
   "execution_count": 19,
   "id": "c29731e3",
   "metadata": {},
   "outputs": [],
   "source": [
    "sigma = flatten(tree_map(lambda x: jnp.sqrt(jnp.diag(jnp.linalg.inv(x))), params['inv_cov_vis']))[0]"
   ]
  },
  {
   "cell_type": "code",
   "execution_count": 20,
   "id": "98257fa4",
   "metadata": {},
   "outputs": [],
   "source": [
    "@jit\n",
    "def log_multinorm_sum_dict(x, mu, inv_cov):\n",
    "    return flatten(tree_multimap(log_multinorm, x, mu, inv_cov))[0].sum()\n",
    "\n",
    "@jit\n",
    "def log_multinorm_sum2(x, mu, inv_cov):\n",
    "    return vmap(log_multinorm, in_axes=(0,0,None))(x, mu, inv_cov).sum()\n",
    "\n",
    "@jit\n",
    "def log_multinorm_sum3(x, mu, inv_cov):\n",
    "    return vmap(log_multinorm, in_axes=(0,None,0))(x, mu, inv_cov).sum()"
   ]
  },
  {
   "cell_type": "code",
   "execution_count": 21,
   "id": "8e4871c3",
   "metadata": {},
   "outputs": [],
   "source": [
    "@jit\n",
    "def nlp(q, params):\n",
    "    \n",
    "    # rfi_amp = flatten(q['rfi_amp'])[0]\n",
    "    rfi_real = flatten(q['rfi_real'])[0]\n",
    "    rfi_imag = flatten(q['rfi_imag'])[0]\n",
    "    \n",
    "    G_amp = flatten(q['g_amp'])[0].reshape(N_ant, N_g_time)\n",
    "    G_phase = flatten(q['g_phase'])[0].reshape(N_ant-1, N_g_time)\n",
    "    \n",
    "    lp = log_multinorm_sum2(G_amp, params['mu_G_amp'], params['inv_cov_G_amp']) + \\\n",
    "         log_multinorm_sum2(G_phase, params['mu_G_phase'], params['inv_cov_G_phase']) + \\\n",
    "         log_multinorm(q['rfi_orbit'], params['mu_RFI_orbit'], params['inv_cov_RFI_orbit']) + \\\n",
    "         jnp.sum(log_normal(rfi_real, 0.0, params['rfi_amp_std'])) + \\\n",
    "         jnp.sum(log_normal(rfi_imag, 0.0, params['rfi_amp_std']))\n",
    "         # jnp.sum(log_normal(rfi_amp, 0.0, params['rfi_amp_std']))\n",
    "    \n",
    "#     V_real = flatten(tree_map(pad_vis, q['v_real']))[0].reshape(N_bl, N_vis_time)\n",
    "#     V_imag = flatten(tree_map(pad_vis, q['v_imag']))[0].reshape(N_bl, N_vis_time)\n",
    "#     lp += log_multinorm_sum3(V_real, 0.0, inv_cov_vis) + \\\n",
    "#           log_multinorm_sum3(V_imag, 0.0, inv_cov_vis)\n",
    "         \n",
    "    lp += jnp.sum(log_normal(flatten(q['v_real'])[0], 0.0, sigma)) + \\\n",
    "          jnp.sum(log_normal(flatten(q['v_imag'])[0], 0.0, sigma))\n",
    "    \n",
    "#     lp += log_multinorm_sum_dict(q['v_real'], params['mu_vis'], params['inv_cov_vis']) + \\\n",
    "#           log_multinorm_sum_dict(q['v_imag'], params['mu_vis'], params['inv_cov_vis'])\n",
    "\n",
    "    return -1.0*lp\n",
    "\n",
    "@jit\n",
    "def nll(q, params, ant1, ant2, bl):\n",
    "\n",
    "    V_model = model(q, params, ant1, ant2, bl)\n",
    "\n",
    "    V_obs = jnp.concatenate([params['vis_obs'][:,bl].real,\n",
    "                             params['vis_obs'][:,bl].imag])\n",
    "\n",
    "    return -1. * log_normal(V_obs, V_model, params['noise']/jnp.sqrt(2))\n",
    "\n",
    "@jit\n",
    "def U(q, params, a1, a2, bl):\n",
    "\n",
    "    nl_like = vmap(nll, in_axes=(None,None,0,0,0))(q, params, a1, a2, bl).sum()\n",
    "        \n",
    "    nl_post = nlp(q, params) + nl_like\n",
    "\n",
    "    return nl_post\n",
    "\n",
    "delU = jit(jacrev(U, 0))"
   ]
  },
  {
   "cell_type": "code",
   "execution_count": 22,
   "id": "61b1733e",
   "metadata": {},
   "outputs": [
    {
     "name": "stdout",
     "output_type": "stream",
     "text": [
      "113 ms ± 270 µs per loop (mean ± std. dev. of 3 runs, 10 loops each)\n"
     ]
    }
   ],
   "source": [
    "%timeit -r 3 nlp.lower(true_values, params).compile()"
   ]
  },
  {
   "cell_type": "code",
   "execution_count": 23,
   "id": "f39b15c9",
   "metadata": {},
   "outputs": [],
   "source": [
    "@jit\n",
    "def nl_like(q, params, a1, a2, bl):\n",
    "    return vmap(nll, in_axes=(None,None,0,0,0))(q, params, a1, a2, bl).sum()"
   ]
  },
  {
   "cell_type": "code",
   "execution_count": 24,
   "id": "c67f083e",
   "metadata": {},
   "outputs": [
    {
     "name": "stdout",
     "output_type": "stream",
     "text": [
      "381 ms ± 252 µs per loop (mean ± std. dev. of 3 runs, 1 loop each)\n"
     ]
    }
   ],
   "source": [
    "a1, a2 = jnp.triu_indices(N_ant, 1)\n",
    "bl = jnp.arange(len(a1))\n",
    "%timeit -r 3 nl_like.lower(true_values, params, a1, a2, bl).compile()"
   ]
  },
  {
   "cell_type": "code",
   "execution_count": 25,
   "id": "d07f27fb",
   "metadata": {},
   "outputs": [],
   "source": [
    "ant1, ant2, baseline = a1[0], a2[0], bl[0]\n",
    "vis = model(true_values, params, ant1, ant2, baseline)"
   ]
  },
  {
   "cell_type": "code",
   "execution_count": 26,
   "id": "38973d78",
   "metadata": {},
   "outputs": [
    {
     "data": {
      "text/plain": [
       "Array(1.00575306, dtype=float64)"
      ]
     },
     "execution_count": 26,
     "metadata": {},
     "output_type": "execute_result"
    }
   ],
   "source": [
    "n_log = vmap(nll, in_axes=(None,None,0,0,0))(true_values, params, a1, a2, bl)\n",
    "n_log = n_log.T[N_time:] + n_log.T[:N_time]\n",
    "n_log.mean()"
   ]
  },
  {
   "cell_type": "code",
   "execution_count": 27,
   "id": "ee45bafd-02ad-4446-964d-25d0a3c5a07d",
   "metadata": {},
   "outputs": [],
   "source": [
    "vis_m = vmap(model, in_axes=(None,None,0,0,0))(true_values, params, a1, a2, bl).T"
   ]
  },
  {
   "cell_type": "code",
   "execution_count": 31,
   "id": "c26963c8-edaa-401f-a403-0f4303ac69b1",
   "metadata": {},
   "outputs": [
    {
     "data": {
      "text/plain": [
       "[<matplotlib.lines.Line2D at 0x298824d30>]"
      ]
     },
     "execution_count": 31,
     "metadata": {},
     "output_type": "execute_result"
    },
    {
     "data": {
      "image/png": "[encoded data removed]",
      "text/plain": [
       "<Figure size 640x480 with 1 Axes>"
      ]
     },
     "metadata": {},
     "output_type": "display_data"
    }
   ],
   "source": [
    "plt.plot(v_obs[:,0,0].real - vis_m[:N_time,0])\n",
    "# plt.plot()"
   ]
  },
  {
   "cell_type": "code",
   "execution_count": 32,
   "id": "dc16cc30",
   "metadata": {},
   "outputs": [
    {
     "name": "stdout",
     "output_type": "stream",
     "text": [
      "500 ms ± 8.78 ms per loop (mean ± std. dev. of 3 runs, 1 loop each)\n"
     ]
    }
   ],
   "source": [
    "%timeit -r 3 U.lower(true_values, params, a1, a2, bl).compile()"
   ]
  },
  {
   "cell_type": "code",
   "execution_count": 33,
   "id": "cbcee308",
   "metadata": {},
   "outputs": [
    {
     "name": "stdout",
     "output_type": "stream",
     "text": [
      "\n",
      "Energy per data point @ true: 1.012116726522798\n",
      "\n",
      "U compiled 1 time(s).\n"
     ]
    }
   ],
   "source": [
    "a1, a2 = jnp.triu_indices(N_ant, 1)\n",
    "bl = jnp.arange(len(a1))\n",
    "print()\n",
    "print(f'Energy per data point @ true: {U(true_values, params, a1, a2, bl)/vis_obs.size}')\n",
    "print()\n",
    "print(f'U compiled {U._cache_size()} time(s).')"
   ]
  },
  {
   "cell_type": "code",
   "execution_count": 34,
   "id": "3e2854ac",
   "metadata": {},
   "outputs": [],
   "source": [
    "# %timeit -r 7 U(true_values, params, a1, a2, bl).block_until_ready()"
   ]
  },
  {
   "cell_type": "code",
   "execution_count": 35,
   "id": "3c66146e",
   "metadata": {},
   "outputs": [],
   "source": [
    "#jax.make_jaxpr(U)(true_values, params, a1, a2, bl)"
   ]
  },
  {
   "cell_type": "code",
   "execution_count": 36,
   "id": "f3d58947",
   "metadata": {},
   "outputs": [],
   "source": [
    "# %timeit -r 1 jit(jacrev(model)).lower(true_values, params, a1[0], a2[0], bl[0]).compile()"
   ]
  },
  {
   "cell_type": "code",
   "execution_count": 37,
   "id": "7b824d28",
   "metadata": {},
   "outputs": [
    {
     "name": "stdout",
     "output_type": "stream",
     "text": [
      "\n",
      "Number of data points: 25200\n",
      "\n",
      "Number of parameters: 8053\n",
      "\n",
      "Energy per data point @ qi: 198.59422024955765\n",
      "\n"
     ]
    }
   ],
   "source": [
    "###############################################################\n",
    "\n",
    "F_prior = {'g_amp': {i: params['inv_cov_G_amp'] for i in range(N_ant)},\n",
    "           'g_phase': {i: params['inv_cov_G_phase'] for i in range(N_ant-1)},\n",
    "           # 'rfi_amp': {i: jnp.eye(N_rfi_time)/params['rfi_amp_std']**2 for i in range(N_ant)},\n",
    "           'rfi_real': {i: jnp.eye(N_rfi_time)/params['rfi_amp_std']**2 for i in range(N_ant)},\n",
    "           'rfi_imag': {i: jnp.eye(N_rfi_time)/params['rfi_amp_std']**2 for i in range(N_ant)},\n",
    "           'rfi_orbit': params['inv_cov_RFI_orbit'],\n",
    "           'v_real': params['inv_cov_vis'],\n",
    "           'v_imag': params['inv_cov_vis'],\n",
    "          }\n",
    "\n",
    "# zeros_like = lambda x: jnp.zeros((x.size,x.size))\n",
    "# F_prior = tree_map(zeros_like, true_values)\n",
    "\n",
    "####################################\n",
    "\n",
    "def fisher_diag_baseline(q, params, a1, a2, bl):\n",
    "    \n",
    "    Jac_model = jacrev(model)(q, params, a1, a2, bl)\n",
    "    F_block = tree_map(lambda J: (J**2).sum(axis=0)/params['noise']**2, Jac_model)\n",
    "\n",
    "    return F_block\n",
    "\n",
    "def fisher_diag(q, params, ant1, ant2, baseline, F_prior):\n",
    "    \n",
    "    @progress_bar_scan(N_bl)\n",
    "    def add_baseline_fisher(F, i):\n",
    "        F_i = fisher_diag_baseline(q, params, ant1[i], ant2[i], baseline[i])\n",
    "        return tree_map(lambda x, y: x+y, F, F_i), i\n",
    "    \n",
    "    return scan(add_baseline_fisher, F_prior, jnp.arange(N_bl))[0]\n",
    "\n",
    "def fisher_diag(q, params, ant1, ant2, baseline, F_prior):\n",
    "    \n",
    "    Jacmodel = jit(jacrev(model))\n",
    "    \n",
    "    def fisher_diag_baseline(q, params, a1, a2, bl):\n",
    "    \n",
    "        J, _ = flatten((q, params, a1, a2, bl))\n",
    "        F_diag = ((J/params['noise'])**2).sum(axis=0)\n",
    "\n",
    "        return F_diag\n",
    "    \n",
    "#     @progress_bar_scan(N_bl)\n",
    "    def add_baseline_fisher(F, i):\n",
    "        F_i = fisher_diag_baseline(q, params, ant1[i], ant2[i], baseline[i])\n",
    "        return F + F_i\n",
    "    \n",
    "    \n",
    "    F, unflatten = flatten(F_prior)\n",
    "    for i in tqdm(range(N_bl)):\n",
    "        F = add_baseline_fisher(F, i)\n",
    "    \n",
    "    return unflatten(F)\n",
    "\n",
    "\n",
    "\n",
    "def fisher_block(q, params, ant1, ant2, baseline, F_prior):\n",
    "    \n",
    "    Jac_model = jacrev(model)\n",
    "    \n",
    "    def fisher_block_baseline(q, params, a1, a2, bl):\n",
    "        \n",
    "        J = Jac_model(q, params, a1, a2, bl)\n",
    "        F_block = tree_map(lambda J: J.T@J/params['noise']**2, J)\n",
    "\n",
    "        return F_block\n",
    "\n",
    "    @progress_bar_scan(N_bl)\n",
    "    def add_baseline_fisher(F, i):\n",
    "        F_i = fisher_block_baseline(q, params, ant1[i], ant2[i], baseline[i])\n",
    "        return tree_map(lambda x, y: x+y, F, F_i), i\n",
    "    \n",
    "    return scan(add_baseline_fisher, F_prior, jnp.arange(N_bl))[0]\n",
    "\n",
    "################\n",
    "def block_std(F_block):\n",
    "\n",
    "    std = tree_map(lambda F: jnp.sqrt(jnp.diag(jnp.linalg.inv(F))), F_block)\n",
    "\n",
    "    return std\n",
    "\n",
    "#############################################################\n",
    "\n",
    "q_dev = {'v_real': {i: x for i, x in enumerate(0.65*random.normal(random.PRNGKey(10), (N_bl,)))},\n",
    "         'v_imag': {i: x for i, x in enumerate(0.65*random.normal(random.PRNGKey(11), (N_bl,)))},\n",
    "         'g_amp':  {i: x for i, x in enumerate(1.0*random.normal(random.PRNGKey(12), (N_ant,)))},\n",
    "         'g_phase': {i: x for i, x in enumerate(1.0*random.normal(random.PRNGKey(13), (N_ant-1,)))},\n",
    "         # 'rfi_amp': {i: x for i, x in enumerate(0.1*random.normal(random.PRNGKey(14), (N_ant,)))},\n",
    "         'rfi_real': {i: x for i, x in enumerate(0.1*random.normal(random.PRNGKey(14), (N_ant,)))},\n",
    "         'rfi_imag': {i: x for i, x in enumerate(0.1*random.normal(random.PRNGKey(14), (N_ant,)))},\n",
    "         'rfi_orbit': random.multivariate_normal(random.PRNGKey(15),\n",
    "                                                 jnp.zeros(len(cov_RFI_orbit)),\n",
    "                                                 1e0*cov_RFI_orbit)\n",
    "        }\n",
    "\n",
    "qi = tree_map(lambda x, y: x + y, true_values, q_dev)\n",
    "\n",
    "# qi = {\n",
    "#     'v_real': \n",
    "\n",
    "#########################################\n",
    "\n",
    "print()\n",
    "print(f'Number of data points: {2*params[\"vis_obs\"].size}')\n",
    "print()\n",
    "print(f'Number of parameters: {len(flatten(qi)[0])}')\n",
    "print()\n",
    "print(f'Energy per data point @ qi: {U(qi, params, a1, a2, bl)/params[\"vis_obs\"].size}')\n",
    "print()\n",
    "# print(f'U compiled {U._cache_size()} time(s).')\n",
    "# print()"
   ]
  },
  {
   "cell_type": "code",
   "execution_count": 38,
   "id": "311d20f1",
   "metadata": {},
   "outputs": [],
   "source": [
    "# %timeit -r 7 U(qi, params, a1, a2, bl).block_until_ready()"
   ]
  },
  {
   "cell_type": "code",
   "execution_count": 39,
   "id": "7126aed0",
   "metadata": {},
   "outputs": [
    {
     "name": "stdout",
     "output_type": "stream",
     "text": [
      "DelU\n"
     ]
    },
    {
     "name": "stderr",
     "output_type": "stream",
     "text": [
      "Running for 28 iterations: 100%|███████████████████████████████████████████████████████████████████████████████████████████████████████████████████████████████████████████████████████████████████████| 28/28 [02:32<00:00,  5.44s/it]\n"
     ]
    }
   ],
   "source": [
    "# D = delU(qi, params, a1, a2, bl)\n",
    "print('DelU')\n",
    "F = fisher_block(qi, params, a1, a2, bl, F_prior)\n",
    "F_inv = tree_map(jnp.linalg.inv, F)"
   ]
  },
  {
   "cell_type": "code",
   "execution_count": 21,
   "id": "53d00440",
   "metadata": {},
   "outputs": [
    {
     "name": "stderr",
     "output_type": "stream",
     "text": [
      "2023-02-19 00:17:33.879802: E external/org_tensorflow/tensorflow/compiler/xla/service/slow_operation_alarm.cc:133] The operation took 12m46.025801s\n",
      "\n",
      "********************************\n",
      "[Compiling module jit_U] Very slow compile?  If you want to file a bug, run with envvar XLA_FLAGS=--xla_dump_to=/tmp/foo and attach the results.\n",
      "********************************\n"
     ]
    },
    {
     "name": "stdout",
     "output_type": "stream",
     "text": [
      "DelU\n"
     ]
    },
    {
     "name": "stderr",
     "output_type": "stream",
     "text": [
      "2023-02-19 00:34:26.797346: E external/org_tensorflow/tensorflow/compiler/xla/service/slow_operation_alarm.cc:133] The operation took 15m27.846594s\n",
      "\n",
      "********************************\n",
      "[Compiling module jit_scan] Very slow compile?  If you want to file a bug, run with envvar XLA_FLAGS=--xla_dump_to=/tmp/foo and attach the results.\n",
      "********************************\n",
      "Running for 2,016 iterations: 100%|█████████████████████████████████████████████████████████| 2016/2016 [1:11:15<00:00,  2.12s/it]\n"
     ]
    }
   ],
   "source": [
    "D = delU(qi, params, a1, a2, bl)\n",
    "print('DelU')\n",
    "F = fisher_block(qi, params, a1, a2, bl, F_prior)\n",
    "F_inv = tree_map(jnp.linalg.inv, F)"
   ]
  },
  {
   "cell_type": "code",
   "execution_count": 23,
   "id": "ca8a58f4",
   "metadata": {},
   "outputs": [
    {
     "name": "stderr",
     "output_type": "stream",
     "text": [
      "100%|████████████████████████████████████████████████████████████████████████████████████████████████████████████████████████████████████████████████████████████████████████████████████████████| 2016/2016 [4:08:43<00:00,  7.40s/it]\n"
     ]
    }
   ],
   "source": [
    "# D = delU(qi, params, a1, a2, bl)\n",
    "F_prior_diag = tree_map(jnp.diag, F_prior)\n",
    "F = fisher_diag(qi, params, a1, a2, bl, F_prior_diag)\n",
    "F_inv = tree_map(lambda x: 1./x, F)"
   ]
  },
  {
   "cell_type": "code",
   "execution_count": 40,
   "id": "1c283bb7",
   "metadata": {},
   "outputs": [
    {
     "name": "stderr",
     "output_type": "stream",
     "text": [
      "NL Posterior = 0.87, alpha = 7.1E-02:   3%|█████                                                                                                                                                 | 337/10000 [04:02<1:55:47,  1.39it/s]\n"
     ]
    }
   ],
   "source": [
    "####################################################\n",
    "\n",
    "@jit\n",
    "def nat_grad_step(q, a1s, a2s, bls, alpha):\n",
    "    \n",
    "    update = lambda F_inv, D: alpha*F_inv@D\n",
    "#     update = lambda F_inv, D: alpha*F_inv*D\n",
    "    D = delU(q, params, a1s, a2s, bls)\n",
    "    return tree_map(update, F_inv, D)\n",
    "    \n",
    "\n",
    "def nat_grad(qi, alpha, Niter=1000, tol=1e-6):\n",
    "    a1, a2 = jnp.triu_indices(N_ant, 1)\n",
    "    bl = jnp.arange(len(a1))\n",
    "    U_i = U(qi, params, a1, a2, bl)/vis_obs.size\n",
    "    pbar = tqdm(range(0, Niter))\n",
    "    for i in pbar:\n",
    "        step = alpha*0.99**(i/10)\n",
    "        qi = tree_map(lambda x, y: x-y, qi, nat_grad_step(qi, a1, a2, bl, step))\n",
    "        U_f = U(qi, params, a1, a2, bl)/vis_obs.size\n",
    "        pbar.set_description(f'NL Posterior = {round(float(U_f), 3)}, alpha = {step:.1E}')\n",
    "        if U_i-U_f < tol:\n",
    "            if U_f > U_i and U_f > 2.:\n",
    "                print('Failed to converge!')\n",
    "                return None\n",
    "            return qi\n",
    "        U_i = U_f\n",
    "    return qi\n",
    "\n",
    "MAP = nat_grad(qi, 1e-1, 10000, 1e-5)\n",
    "# MAP = nat_grad(MAP, 2e-2, 10000, 1e-5)\n",
    "# MAP = nat_grad(true_values, 5e-3, 10000, 1e-5)\n",
    "# MAP = true_values\n",
    "\n",
    "# print()\n",
    "# print(f'U compiled {U._cache_size()} time(s).')\n",
    "# print()\n",
    "# print(f'nat_grad_step compiled {nat_grad_step._cache_size()} time(s).')"
   ]
  },
  {
   "cell_type": "code",
   "execution_count": null,
   "id": "5cad9322",
   "metadata": {},
   "outputs": [],
   "source": []
  },
  {
   "cell_type": "code",
   "execution_count": 41,
   "id": "5d3cfb05",
   "metadata": {},
   "outputs": [],
   "source": [
    "def saveParams(file_path, q, F_inv):\n",
    "    with h5py.File(file_path, 'w') as fp:\n",
    "        fp['times_fine'] = times\n",
    "        \n",
    "        for i in range(len(q['v_real'])):\n",
    "            fp[f'vis/{i}'] = q['v_real'][i] + 1.j*q['v_imag'][i]\n",
    "            fp[f'vis_cov/{i}'] = F_inv['v_real'][i]\n",
    "            fp[f'vis_times/{i}'] = vis_times[i]\n",
    "        fp['vis_var'] = vis_var\n",
    "        fp['vis_l'] = vis_l\n",
    "        \n",
    "        V_real = flatten(tree_map(pad_vis, q['v_real']))[0].reshape(N_bl, N_vis_time)\n",
    "        V_imag = flatten(tree_map(pad_vis, q['v_imag']))[0].reshape(N_bl, N_vis_time)\n",
    "        fp['vis_fine'] = vmap(jnp.dot)(params['resample_vis'], (V_real + 1.j*V_imag))\n",
    "        \n",
    "        G_amp = flatten(q['g_amp'])[0].reshape(N_ant, N_g_time)\n",
    "        G_phase = flatten(q['g_phase'])[0].reshape(N_ant-1, N_g_time)\n",
    "        G_phase = jnp.concatenate([G_phase, jnp.zeros((1, N_g_time))], axis=0)\n",
    "        G = G_amp*jnp.exp(1.j*G_phase)\n",
    "        fp['gains'] = G\n",
    "\n",
    "        G_amp = (params['resample_g_amp']@G_amp.T)\n",
    "        G_phase = (params['resample_g_phase']@G_phase.T)\n",
    "        G = G_amp*jnp.exp(1.j*G_phase)\n",
    "        fp['gains_fine'] = G\n",
    "        \n",
    "        # rfi_amp = flatten(q['rfi_amp'])[0].reshape(N_ant, N_rfi_time).T\n",
    "        # fp['rfi_amp'] = rfi_amp\n",
    "        # fp['rfi_amp_fine'] = params['resample_rfi']@rfi_amp\n",
    "        fp['rfi_orbit'] = q['rfi_orbit']\n",
    "        \n",
    "        fp['g_amp_cov'] = flatten(F_inv['g_amp'])[0].reshape(N_ant,N_g_time,N_g_time)\n",
    "        \n",
    "        fp['g_phase_cov'] = flatten(F_inv['g_phase'])[0].reshape(N_ant-1,N_g_time,N_g_time)\n",
    "        \n",
    "        # fp['rfi_amp_cov'] = flatten(F_inv['rfi_amp'])[0].reshape(N_ant,N_rfi_time,N_rfi_time)\n",
    "        fp['rfi_orbit_cov'] = F_inv['rfi_orbit']"
   ]
  },
  {
   "cell_type": "code",
   "execution_count": 42,
   "id": "b10caecf",
   "metadata": {},
   "outputs": [],
   "source": [
    "save_path = f'data/Params_{N_ant}A_Complex.h5'\n",
    "\n",
    "saveParams(save_path, MAP, F_inv)"
   ]
  },
  {
   "cell_type": "code",
   "execution_count": 43,
   "id": "4b60098b",
   "metadata": {},
   "outputs": [
    {
     "name": "stdout",
     "output_type": "stream",
     "text": [
      "\n",
      "Estimating Posterior Errors\n",
      "---------------------------\n",
      "\n",
      "RMSE : 0.07235048114287976\n",
      "\n",
      "STD : 0.28661675203691456\n",
      "\n",
      "Normalized\n",
      "-----------\n",
      "Mean : 0.0111686002564818\n",
      "STD : 0.2556076965915663\n"
     ]
    }
   ],
   "source": [
    "print()\n",
    "print('Estimating Posterior Errors')\n",
    "print('---------------------------')\n",
    "\n",
    "std = block_std(F)\n",
    "\n",
    "with h5py.File(save_path, 'r') as fp:\n",
    "    v_pred = fp['vis_fine'][()].T\n",
    "    noise_cov = {i: fp['vis_cov'][f'{i}'][()] for i in range(N_bl)}\n",
    "    vis_times = {i: fp['vis_times'][f'{i}'][()] for i in range(N_bl)}\n",
    "    vis_var_d = {i: fp['vis_var'][i] for i in range(N_bl)}\n",
    "    vis_l_d = {i: fp['vis_l'][i] for i in range(N_bl)}\n",
    "v_pred = jnp.concatenate([v_pred.real.flatten(), v_pred.imag.flatten()])\n",
    "cov_fine = tree_map(resampled_cov, vis_times, {i: times for i in range(N_bl)}, vis_var_d, vis_l_d, noise_cov)\n",
    "v_std = vmap(lambda x: jnp.sqrt(jnp.diag(x)))(flatten(cov_fine)[0].reshape(N_bl,N_time,N_time))\n",
    "v_std = jnp.sqrt(jnp.concatenate([v_std.flatten(), v_std.flatten()]))\n",
    "v_true = vis_ast.reshape(N_time, N_int_samples, -1).mean(axis=1)\n",
    "v_true = jnp.concatenate([v_true.real.flatten(), v_true.imag.flatten()])\n",
    "res = v_pred - v_true\n",
    "\n",
    "bias = res/v_std\n",
    "\n",
    "print()\n",
    "print(f'RMSE : {jnp.sqrt(jnp.mean(res**2))}')\n",
    "print()\n",
    "print(f'STD : {v_std.mean()}')\n",
    "print()\n",
    "print('Normalized')\n",
    "print('-----------')\n",
    "print(f'Mean : {bias.mean()}')\n",
    "print(f'STD : {bias.std()}')"
   ]
  },
  {
   "cell_type": "code",
   "execution_count": 44,
   "id": "af11428a",
   "metadata": {},
   "outputs": [
    {
     "data": {
      "text/plain": [
       "99.88492063492063"
      ]
     },
     "execution_count": 44,
     "metadata": {},
     "output_type": "execute_result"
    }
   ],
   "source": [
    "b = jnp.abs(bias)\n",
    "100*len(b[b<1])/len(b)"
   ]
  },
  {
   "cell_type": "code",
   "execution_count": 45,
   "id": "91ff47d9",
   "metadata": {},
   "outputs": [
    {
     "name": "stdout",
     "output_type": "stream",
     "text": [
      "\n",
      "End Time : 2023-05-28 16:50:07.764249\n",
      "\n",
      "Time Taken: 0:10:16.590085\n"
     ]
    }
   ],
   "source": [
    "print()\n",
    "print(f'End Time : {datetime.now()}')\n",
    "print()\n",
    "print(f'Time Taken: {datetime.now()-start}')"
   ]
  },
  {
   "cell_type": "code",
   "execution_count": 46,
   "id": "5aa30417",
   "metadata": {},
   "outputs": [
    {
     "data": {
      "text/plain": [
       "Text(0, 0.5, 'Visibility Real [Jy]')"
      ]
     },
     "execution_count": 46,
     "metadata": {},
     "output_type": "execute_result"
    },
    {
     "data": {
      "image/png": "[encoded data removed]",
      "text/plain": [
       "<Figure size 640x480 with 1 Axes>"
      ]
     },
     "metadata": {},
     "output_type": "display_data"
    }
   ],
   "source": [
    "bl = int(jnp.argmin(flatten(vis_l)[0]))\n",
    "n_std = 2\n",
    "\n",
    "with h5py.File(save_path, 'r') as fp:\n",
    "    vis = {i: fp[f'vis'][f'{i}'][()] for i in range(N_bl)}\n",
    "    v_pred = fp['vis_fine'][()].T\n",
    "    noise_cov = {i: fp['vis_cov'][f'{i}'][()] for i in range(N_bl)}\n",
    "cov_fine = tree_map(resampled_cov, vis_times, {i: times for i in range(N_bl)}, vis_var_d, vis_l_d, noise_cov)\n",
    "v_std = vmap(lambda x: jnp.sqrt(jnp.diag(x)))(flatten(cov_fine)[0].reshape(N_bl,N_time,N_time)).T\n",
    "\n",
    "est = vis[bl].real\n",
    "mean = v_pred[:,bl].real\n",
    "std = v_std[:,bl]\n",
    "true = vis_ast[:,bl,0].real\n",
    "noise = noise/jnp.sqrt(2.)\n",
    "\n",
    "plt.plot(times_fine, true, color='k', label='True')\n",
    "plt.fill_between(times_fine, true-n_std*noise, true+n_std*noise, \n",
    "                 color='tab:grey', alpha=0.3, \n",
    "#                  label=f'{int(n_std)}'+r'$\\sigma$'\n",
    "                )\n",
    "plt.plot(times, mean, color='tab:blue', label='GP')\n",
    "plt.fill_between(times, mean-n_std*std, mean+n_std*std, \n",
    "                 color='tab:blue', alpha=0.3, \n",
    "#                  label=f'{int(n_std)}'+r'$\\sigma$'\n",
    "                )\n",
    "plt.plot(vis_times[bl], est, 'o', color='tab:blue', label='Estimates')\n",
    "\n",
    "plt.legend()\n",
    "plt.title(f'{round(mag_uvw[bl])} m Baseline')\n",
    "plt.xlabel('Observation Time [s]')\n",
    "plt.ylabel('Visibility Real [Jy]')"
   ]
  },
  {
   "cell_type": "code",
   "execution_count": 48,
   "id": "498af6d7",
   "metadata": {},
   "outputs": [
    {
     "data": {
      "text/plain": [
       "Text(0, 0.5, 'Visibility Real [Jy]')"
      ]
     },
     "execution_count": 48,
     "metadata": {},
     "output_type": "execute_result"
    },
    {
     "data": {
      "image/png": "[encoded data removed]",
      "text/plain": [
       "<Figure size 640x480 with 1 Axes>"
      ]
     },
     "metadata": {},
     "output_type": "display_data"
    }
   ],
   "source": [
    "bl = int(jnp.argmin((mag_uvw-3000)**2))\n",
    "n_std = 2\n",
    "\n",
    "with h5py.File(save_path, 'r') as fp:\n",
    "    vis = {i: fp[f'vis'][f'{i}'][()] for i in range(N_bl)}\n",
    "    v_pred = fp['vis_fine'][()].T\n",
    "    noise_cov = {i: fp['vis_cov'][f'{i}'][()] for i in range(N_bl)}\n",
    "cov_fine = tree_map(resampled_cov, vis_times, {i: times for i in range(N_bl)}, vis_var_d, vis_l_d, noise_cov)\n",
    "v_std = vmap(lambda x: jnp.sqrt(jnp.diag(x)))(flatten(cov_fine)[0].reshape(N_bl,N_time,N_time)).T\n",
    "\n",
    "est = vis[bl].real\n",
    "mean = v_pred[:,bl].real\n",
    "std = v_std[:,bl]\n",
    "true = vis_ast[:,bl,0].real\n",
    "noise = noise/jnp.sqrt(2.)\n",
    "\n",
    "plt.plot(times_fine, true, color='k', label='True')\n",
    "plt.fill_between(times_fine, true-n_std*noise, true+n_std*noise, \n",
    "                 color='tab:grey', alpha=0.3, \n",
    "#                  label=f'{int(n_std)}'+r'$\\sigma$'\n",
    "                )\n",
    "plt.plot(times, mean, color='tab:blue', label='GP')\n",
    "plt.fill_between(times, mean-n_std*std, mean+n_std*std, \n",
    "                 color='tab:blue', alpha=0.3, \n",
    "#                  label=f'{int(n_std)}'+r'$\\sigma$'\n",
    "                )\n",
    "plt.plot(vis_times[bl], est, 'o', color='tab:blue', label='Estimates')\n",
    "\n",
    "plt.legend()\n",
    "plt.title(f'{round(mag_uvw[bl])} m Baseline')\n",
    "plt.xlabel('Observation Time [s]')\n",
    "plt.ylabel('Visibility Real [Jy]')"
   ]
  },
  {
   "cell_type": "code",
   "execution_count": 49,
   "id": "3b5fccf6",
   "metadata": {},
   "outputs": [
    {
     "data": {
      "text/plain": [
       "Text(0, 0.5, 'Visibility Real [Jy]')"
      ]
     },
     "execution_count": 49,
     "metadata": {},
     "output_type": "execute_result"
    },
    {
     "data": {
      "image/png": "[encoded data removed]",
      "text/plain": [
       "<Figure size 640x480 with 1 Axes>"
      ]
     },
     "metadata": {},
     "output_type": "display_data"
    }
   ],
   "source": [
    "bl = int(jnp.argmax(flatten(vis_l)[0]))\n",
    "n_std = 2\n",
    "\n",
    "with h5py.File(save_path, 'r') as fp:\n",
    "    vis = {i: fp[f'vis'][f'{i}'][()] for i in range(N_bl)}\n",
    "    v_pred = fp['vis_fine'][()].T\n",
    "    noise_cov = {i: fp['vis_cov'][f'{i}'][()] for i in range(N_bl)}\n",
    "cov_fine = tree_map(resampled_cov, vis_times, {i: times for i in range(N_bl)}, vis_var_d, vis_l_d, noise_cov)\n",
    "v_std = vmap(lambda x: jnp.sqrt(jnp.diag(x)))(flatten(cov_fine)[0].reshape(N_bl,N_time,N_time)).T\n",
    "\n",
    "est = vis[bl].real\n",
    "mean = v_pred[:,bl].real\n",
    "std = v_std[:,bl]\n",
    "true = vis_ast[:,bl,0].real\n",
    "noise = noise/jnp.sqrt(2.)\n",
    "\n",
    "plt.plot(times_fine, true, color='k', label='True')\n",
    "plt.fill_between(times_fine, true-n_std*noise, true+n_std*noise, \n",
    "                 color='tab:grey', alpha=0.3, \n",
    "#                  label=f'{int(n_std)}'+r'$\\sigma$'\n",
    "                )\n",
    "plt.plot(times, mean, color='tab:blue', label='GP')\n",
    "plt.fill_between(times, mean-n_std*std, mean+n_std*std, \n",
    "                 color='tab:blue', alpha=0.3, \n",
    "#                  label=f'{int(n_std)}'+r'$\\sigma$'\n",
    "                )\n",
    "plt.plot(vis_times[bl], est, 'o', color='tab:blue', label='Estimates')\n",
    "\n",
    "plt.legend()\n",
    "plt.title(f'{round(mag_uvw[bl])} m Baseline')\n",
    "plt.xlabel('Observation Time [s]')\n",
    "plt.ylabel('Visibility Real [Jy]')"
   ]
  },
  {
   "cell_type": "code",
   "execution_count": null,
   "id": "4557e239",
   "metadata": {},
   "outputs": [],
   "source": []
  },
  {
   "cell_type": "code",
   "execution_count": null,
   "id": "de7dfa0f",
   "metadata": {},
   "outputs": [],
   "source": []
  },
  {
   "cell_type": "code",
   "execution_count": 18,
   "id": "03d7e36a",
   "metadata": {},
   "outputs": [],
   "source": [
    "@jit\n",
    "def vis_prior(q):\n",
    "    V_real = flatten(tree_map(pad_vis, q['v_real']))[0].reshape(N_bl, N_vis_time)\n",
    "#     V_imag = flatten(tree_map(pad_vis, q['v_imag']))[0].reshape(N_bl, N_vis_time)\n",
    "    return log_multinorm_sum(V_real, jnp.zeros(N_bl), inv_cov_vis)"
   ]
  },
  {
   "cell_type": "code",
   "execution_count": 19,
   "id": "b45edef3",
   "metadata": {},
   "outputs": [],
   "source": [
    "@jit\n",
    "def vis_prior2(q):\n",
    "    V_real = flatten(q['v_real'])[0]\n",
    "#     V_imag = flatten(tree_map(pad_vis, q['v_imag']))[0].reshape(N_bl, N_vis_time)\n",
    "    return log_normal(V_real, jnp.zeros(len(V_real)), sigma).sum()"
   ]
  },
  {
   "cell_type": "code",
   "execution_count": 20,
   "id": "935931bd",
   "metadata": {},
   "outputs": [
    {
     "name": "stdout",
     "output_type": "stream",
     "text": [
      "7.41 s ± 342 ms per loop (mean ± std. dev. of 7 runs, 1 loop each)\n"
     ]
    }
   ],
   "source": [
    "%timeit -r 7 vis_prior.lower(true_values).compile()"
   ]
  },
  {
   "cell_type": "code",
   "execution_count": 21,
   "id": "a4976c0c",
   "metadata": {},
   "outputs": [
    {
     "name": "stdout",
     "output_type": "stream",
     "text": [
      "417 ms ± 943 µs per loop (mean ± std. dev. of 7 runs, 1 loop each)\n"
     ]
    }
   ],
   "source": [
    "%timeit -r 7 vis_prior2.lower(true_values).compile()"
   ]
  },
  {
   "cell_type": "code",
   "execution_count": 22,
   "id": "e7de4694",
   "metadata": {},
   "outputs": [
    {
     "data": {
      "text/plain": [
       "Array(-139.85498607, dtype=float64)"
      ]
     },
     "execution_count": 22,
     "metadata": {},
     "output_type": "execute_result"
    }
   ],
   "source": [
    "vis_prior(true_values)"
   ]
  },
  {
   "cell_type": "code",
   "execution_count": 23,
   "id": "945b7b67",
   "metadata": {},
   "outputs": [
    {
     "data": {
      "text/plain": [
       "Array(-178.49932835, dtype=float64)"
      ]
     },
     "execution_count": 23,
     "metadata": {},
     "output_type": "execute_result"
    }
   ],
   "source": [
    "vis_prior2(true_values)"
   ]
  },
  {
   "cell_type": "code",
   "execution_count": 24,
   "id": "867d66ba",
   "metadata": {},
   "outputs": [
    {
     "ename": "NameError",
     "evalue": "name 'log_multinorm_sum_dict' is not defined",
     "output_type": "error",
     "traceback": [
      "\u001b[0;31m---------------------------------------------------------------------------\u001b[0m",
      "\u001b[0;31mNameError\u001b[0m                                 Traceback (most recent call last)",
      "Cell \u001b[0;32mIn[24], line 1\u001b[0m\n\u001b[0;32m----> 1\u001b[0m \u001b[43mlog_multinorm_sum_dict\u001b[49m(true_values[\u001b[38;5;124m'\u001b[39m\u001b[38;5;124mv_real\u001b[39m\u001b[38;5;124m'\u001b[39m], params[\u001b[38;5;124m'\u001b[39m\u001b[38;5;124mmu_vis\u001b[39m\u001b[38;5;124m'\u001b[39m], params[\u001b[38;5;124m'\u001b[39m\u001b[38;5;124minv_cov_vis\u001b[39m\u001b[38;5;124m'\u001b[39m])\n",
      "\u001b[0;31mNameError\u001b[0m: name 'log_multinorm_sum_dict' is not defined"
     ]
    }
   ],
   "source": [
    "log_multinorm_sum_dict(true_values['v_real'], params['mu_vis'], params['inv_cov_vis'])"
   ]
  },
  {
   "cell_type": "code",
   "execution_count": 13,
   "id": "2a155582",
   "metadata": {},
   "outputs": [],
   "source": [
    "@jit\n",
    "def log_multinorm_dict(x, mu, inv_cov):\n",
    "    return tree_multimap(log_multinorm, x, mu, inv_cov)"
   ]
  },
  {
   "cell_type": "code",
   "execution_count": 14,
   "id": "e4983d92",
   "metadata": {},
   "outputs": [
    {
     "name": "stdout",
     "output_type": "stream",
     "text": [
      "9.46 s ± 597 ms per loop (mean ± std. dev. of 7 runs, 1 loop each)\n"
     ]
    }
   ],
   "source": [
    "%timeit -r 7 log_multinorm_dict.lower(true_values['v_real'], params['mu_vis'], params['inv_cov_vis']).compile()"
   ]
  },
  {
   "cell_type": "code",
   "execution_count": 15,
   "id": "419b145f",
   "metadata": {},
   "outputs": [
    {
     "ename": "NameError",
     "evalue": "name 'log_multinorm_sum_dict' is not defined",
     "output_type": "error",
     "traceback": [
      "\u001b[0;31m---------------------------------------------------------------------------\u001b[0m",
      "\u001b[0;31mNameError\u001b[0m                                 Traceback (most recent call last)",
      "Cell \u001b[0;32mIn[15], line 1\u001b[0m\n\u001b[0;32m----> 1\u001b[0m \u001b[43mget_ipython\u001b[49m\u001b[43m(\u001b[49m\u001b[43m)\u001b[49m\u001b[38;5;241;43m.\u001b[39;49m\u001b[43mrun_line_magic\u001b[49m\u001b[43m(\u001b[49m\u001b[38;5;124;43m'\u001b[39;49m\u001b[38;5;124;43mtimeit\u001b[39;49m\u001b[38;5;124;43m'\u001b[39;49m\u001b[43m,\u001b[49m\u001b[43m \u001b[49m\u001b[38;5;124;43m\"\u001b[39;49m\u001b[38;5;124;43m-r 7 log_multinorm_sum_dict.lower(true_values[\u001b[39;49m\u001b[38;5;124;43m'\u001b[39;49m\u001b[38;5;124;43mv_real\u001b[39;49m\u001b[38;5;124;43m'\u001b[39;49m\u001b[38;5;124;43m], params[\u001b[39;49m\u001b[38;5;124;43m'\u001b[39;49m\u001b[38;5;124;43mmu_vis\u001b[39;49m\u001b[38;5;124;43m'\u001b[39;49m\u001b[38;5;124;43m], params[\u001b[39;49m\u001b[38;5;124;43m'\u001b[39;49m\u001b[38;5;124;43minv_cov_vis\u001b[39;49m\u001b[38;5;124;43m'\u001b[39;49m\u001b[38;5;124;43m]).compile()\u001b[39;49m\u001b[38;5;124;43m\"\u001b[39;49m\u001b[43m)\u001b[49m\n",
      "File \u001b[0;32m~/mambaforge/envs/tab3.10/lib/python3.8/site-packages/IPython/core/interactiveshell.py:2369\u001b[0m, in \u001b[0;36mInteractiveShell.run_line_magic\u001b[0;34m(self, magic_name, line, _stack_depth)\u001b[0m\n\u001b[1;32m   2367\u001b[0m     kwargs[\u001b[38;5;124m'\u001b[39m\u001b[38;5;124mlocal_ns\u001b[39m\u001b[38;5;124m'\u001b[39m] \u001b[38;5;241m=\u001b[39m \u001b[38;5;28mself\u001b[39m\u001b[38;5;241m.\u001b[39mget_local_scope(stack_depth)\n\u001b[1;32m   2368\u001b[0m \u001b[38;5;28;01mwith\u001b[39;00m \u001b[38;5;28mself\u001b[39m\u001b[38;5;241m.\u001b[39mbuiltin_trap:\n\u001b[0;32m-> 2369\u001b[0m     result \u001b[38;5;241m=\u001b[39m \u001b[43mfn\u001b[49m\u001b[43m(\u001b[49m\u001b[38;5;241;43m*\u001b[39;49m\u001b[43margs\u001b[49m\u001b[43m,\u001b[49m\u001b[43m \u001b[49m\u001b[38;5;241;43m*\u001b[39;49m\u001b[38;5;241;43m*\u001b[39;49m\u001b[43mkwargs\u001b[49m\u001b[43m)\u001b[49m\n\u001b[1;32m   2370\u001b[0m \u001b[38;5;28;01mreturn\u001b[39;00m result\n",
      "File \u001b[0;32m~/mambaforge/envs/tab3.10/lib/python3.8/site-packages/IPython/core/magics/execution.py:1162\u001b[0m, in \u001b[0;36mExecutionMagics.timeit\u001b[0;34m(self, line, cell, local_ns)\u001b[0m\n\u001b[1;32m   1160\u001b[0m \u001b[38;5;28;01mfor\u001b[39;00m index \u001b[38;5;129;01min\u001b[39;00m \u001b[38;5;28mrange\u001b[39m(\u001b[38;5;241m0\u001b[39m, \u001b[38;5;241m10\u001b[39m):\n\u001b[1;32m   1161\u001b[0m     number \u001b[38;5;241m=\u001b[39m \u001b[38;5;241m10\u001b[39m \u001b[38;5;241m*\u001b[39m\u001b[38;5;241m*\u001b[39m index\n\u001b[0;32m-> 1162\u001b[0m     time_number \u001b[38;5;241m=\u001b[39m \u001b[43mtimer\u001b[49m\u001b[38;5;241;43m.\u001b[39;49m\u001b[43mtimeit\u001b[49m\u001b[43m(\u001b[49m\u001b[43mnumber\u001b[49m\u001b[43m)\u001b[49m\n\u001b[1;32m   1163\u001b[0m     \u001b[38;5;28;01mif\u001b[39;00m time_number \u001b[38;5;241m>\u001b[39m\u001b[38;5;241m=\u001b[39m \u001b[38;5;241m0.2\u001b[39m:\n\u001b[1;32m   1164\u001b[0m         \u001b[38;5;28;01mbreak\u001b[39;00m\n",
      "File \u001b[0;32m~/mambaforge/envs/tab3.10/lib/python3.8/site-packages/IPython/core/magics/execution.py:156\u001b[0m, in \u001b[0;36mTimer.timeit\u001b[0;34m(self, number)\u001b[0m\n\u001b[1;32m    154\u001b[0m gc\u001b[38;5;241m.\u001b[39mdisable()\n\u001b[1;32m    155\u001b[0m \u001b[38;5;28;01mtry\u001b[39;00m:\n\u001b[0;32m--> 156\u001b[0m     timing \u001b[38;5;241m=\u001b[39m \u001b[38;5;28;43mself\u001b[39;49m\u001b[38;5;241;43m.\u001b[39;49m\u001b[43minner\u001b[49m\u001b[43m(\u001b[49m\u001b[43mit\u001b[49m\u001b[43m,\u001b[49m\u001b[43m \u001b[49m\u001b[38;5;28;43mself\u001b[39;49m\u001b[38;5;241;43m.\u001b[39;49m\u001b[43mtimer\u001b[49m\u001b[43m)\u001b[49m\n\u001b[1;32m    157\u001b[0m \u001b[38;5;28;01mfinally\u001b[39;00m:\n\u001b[1;32m    158\u001b[0m     \u001b[38;5;28;01mif\u001b[39;00m gcold:\n",
      "File \u001b[0;32m<magic-timeit>:1\u001b[0m, in \u001b[0;36minner\u001b[0;34m(_it, _timer)\u001b[0m\n",
      "\u001b[0;31mNameError\u001b[0m: name 'log_multinorm_sum_dict' is not defined"
     ]
    }
   ],
   "source": [
    "%timeit -r 7 log_multinorm_sum_dict.lower(true_values['v_real'], params['mu_vis'], params['inv_cov_vis']).compile()"
   ]
  },
  {
   "cell_type": "code",
   "execution_count": null,
   "id": "06600585",
   "metadata": {},
   "outputs": [],
   "source": [
    "%timeit -r 7 log_multinorm_sum_array.lower(flatten(true_values['g_amp'])[0].reshape(N_ant, N_g_time), params['mu_G_amp'], params['inv_cov_G_amp']).compile()"
   ]
  },
  {
   "cell_type": "code",
   "execution_count": null,
   "id": "b1fa6d48",
   "metadata": {},
   "outputs": [],
   "source": []
  },
  {
   "cell_type": "code",
   "execution_count": 4,
   "id": "11308ae0",
   "metadata": {},
   "outputs": [],
   "source": [
    "# class tabascal:\n",
    "#     def __init__(self, n_ant: int, times: jnp.ndarray, times_fine: jnp.ndarray, freqs: jnp.ndarray, \n",
    "#                  qi: dict, true_values: dict, n_int_samples: int, n_rfi_time: int, n_g_time: int, \n",
    "#                  n_vis_time: int, scalings: dict, inv_scalings: dict, n_bl: int, noise: float, \n",
    "#                  vis_obs: jnp.ndarray, ants_xyz: jnp.ndarray, phase_corrections: jnp.ndarray, \n",
    "#                  resamplings: dict, antenna1: jnp.ndarray, antenna2: jnp.ndarray\n",
    "#                 ):\n",
    "        \n",
    "#         self.n_ant = n_ant\n",
    "#         self.n_time = len(times)\n",
    "#         self.n_int_samples = n_int_samples\n",
    "#         self.n_rfi_time = n_rfi_time\n",
    "#         self.n_g_time = n_g_time\n",
    "#         self.n_vis_time = n_vis_time\n",
    "#         self.qi = qi\n",
    "#         self.q = qi\n",
    "#         self.times = times\n",
    "#         self.freqs = freqs\n",
    "#         self.scalings = scalings\n",
    "#         self.inv_scalings = inv_scalings\n",
    "#         self.n_bl = n_bl\n",
    "#         self.times = times\n",
    "#         self.times_fine = times_fine\n",
    "#         self.noise = noise\n",
    "#         self.ants_xyz = ants_xyz\n",
    "#         self.phase_corrections = phase_corrections\n",
    "#         self.vis_obs = vis_obs\n",
    "#         self.resamplings = resamplings\n",
    "#         self.true_values = true_values#self.scale_parameters(true_values, scalings)\n",
    "#         self.antenna1 = antenna1\n",
    "#         self.antenna2 = antenna2\n",
    "#         self.baselines = jnp.arange(n_bl)\n",
    "    \n",
    "#     @jit\n",
    "#     def rfi_closures(self, q, ants):\n",
    "\n",
    "#         rfi_amp = flatten(q['rfi_amp'])[0].reshape(self.n_ant,\n",
    "#                                                         self.n_rfi_time)[ants]\n",
    "#         rfi_amp = (self.resamplings['resample_rfi']@rfi_amp.T).T\n",
    "\n",
    "#         rfi_xyz = orbit(self.times_fine, *q['rfi_orbit'])\n",
    "#         distances = jnp.linalg.norm(self.ants_xyz[:,ants]-rfi_xyz[:,None,:], axis=2)\n",
    "#         c_distances = (distances-self.phase_corrections[:,ants])[...,None]\n",
    "\n",
    "#         return rfi_amp, c_distances\n",
    "        \n",
    "#     @jit\n",
    "#     def rfi_vis(self, app_amplitude, c_distances, freqs):\n",
    "#         '''\n",
    "#         Calculate visibilities from distances to rfi sources.\n",
    "\n",
    "#         Parameters:\n",
    "#         -----------\n",
    "#         app_amplitude: jnp.array (n_time, 2, n_freq, n_src)\n",
    "#             Apparent amplitude at the antennas.\n",
    "#         c_distances: jnp.array (n_time, 2, n_src)\n",
    "#             The phase corrected distances between the rfi sources and the antennas.\n",
    "#         freqs: jnp.array (n_freq,)\n",
    "#             Frequencies.\n",
    "\n",
    "#         Returns:\n",
    "#         --------\n",
    "#         vis: jnp.array (n_time, 1, n_freq)\n",
    "#             The visibilities.\n",
    "#         '''\n",
    "#         n_time, n_ant, n_freq, n_src = app_amplitude.shape\n",
    "#         c = 2.99792458e8\n",
    "\n",
    "#         # Create array of shape (n_time, n_bl, n_freq, n_src) and then sum over n_src\n",
    "\n",
    "#         minus_two_pi_over_lamda = (-2.0*jnp.pi*freqs/c).reshape(1,1,n_freq,1)\n",
    "\n",
    "#         c_distances = c_distances.reshape(n_time,n_ant,1,n_src)\n",
    "\n",
    "#         phase = minus_two_pi_over_lamda*(c_distances[:,0]-c_distances[:,1])\n",
    "#         intensities_app = app_amplitude[:,0]*app_amplitude[:,1]\n",
    "\n",
    "#         vis = jnp.sum(intensities_app*jnp.exp(-1.j*phase), axis=-1)\n",
    "\n",
    "#         return vis\n",
    "\n",
    "#     @jit\n",
    "#     def baseline_gains(self, q, ants):\n",
    "\n",
    "#         G_amp = flatten(q['g_amp'])[0].reshape(self.n_ant, self.n_g_time)[ants]\n",
    "#         G_phase = flatten(q['g_phase'])[0].reshape(self.n_ant-1, self.n_g_time)\n",
    "#         G_phase = jnp.concatenate([G_phase, jnp.zeros((1, N_g_time))], axis=0)[ants]\n",
    "\n",
    "#         G_amp = (self.resamplings['resample_g_amp']@G_amp.T).T\n",
    "#         G_phase = (self.resamplings['resample_g_phase']@G_phase.T).T\n",
    "\n",
    "#         G = G_amp*jnp.exp(1.j*G_phase)\n",
    "\n",
    "#         return G[0]*jnp.conjugate(G[1])\n",
    "\n",
    "#     @jit\n",
    "#     def model(self, ant1, ant2, bl):\n",
    "\n",
    "#         q = self.scale_parameters(self.q, self.inv_scalings)\n",
    "\n",
    "#         ants = jnp.array([ant1, ant2])\n",
    "\n",
    "#         V_real = flatten(q['v_real'])[0].reshape(self.n_bl, self.n_vis_time)[bl]\n",
    "#         V_imag = flatten(q['v_imag'])[0].reshape(self.n_bl, self.n_vis_time)[bl]\n",
    "#         V_ast = V_real + 1.j*V_imag\n",
    "\n",
    "#         V_ast = self.resamplings['resample_vis'][bl]@V_ast\n",
    "\n",
    "#     #     Calculate the visibility contribution from the RFI\n",
    "#         rfi_amp, c_distances = self.rfi_closures(q, ants)\n",
    "#         V_rfi = self.rfi_vis(rfi_amp.T[:,:,None,None], c_distances, self.freqs)[...,0]\n",
    "#         V_rfi = V_rfi.reshape(self.n_time, self.n_int_samples).mean(axis=1)\n",
    "\n",
    "#         G_bl = self.baseline_gains(q, ants)\n",
    "\n",
    "#         model_vis = (G_bl*(V_ast+V_rfi))\n",
    "\n",
    "#         return jnp.concatenate([model_vis.real.flatten(), model_vis.imag.flatten()])\n",
    "\n",
    "#     @jit\n",
    "#     def scale_parameters(self, q, scalings):\n",
    "#         q['g_amp'] = tree_map(lambda x: scalings['g_amp']*x, q['g_amp'])\n",
    "#         q['g_phase'] = tree_map(lambda x: scalings['g_phase']*x, q['g_phase'])\n",
    "#         q['rfi_orbit'] = scalings['rfi_orbit']@q['rfi_orbit']\n",
    "#         return q\n",
    "\n",
    "    \n",
    "#     @jit\n",
    "#     def nll(self, ant1, ant2, bl):\n",
    "\n",
    "#         V_model = self.model(ant1, ant2, bl)\n",
    "\n",
    "#         V_obs = jnp.concatenate([self.vis_obs[:,bl].real,\n",
    "#                                  self.vis_obs[:,bl].imag])\n",
    "\n",
    "#         return -1. * log_normal(V_obs, V_model, self.noise/jnp.sqrt(2))\n",
    "    \n",
    "    \n",
    "#     @jit\n",
    "#     def U(self):\n",
    "\n",
    "#         nl_like = vmap(self.nll, in_axes=(0,0,0))(self.antenna1, self.antenna2, self.baselines).sum()\n",
    "#         return nl_like\n",
    "# #         nl_post = nlp(q, params) + nl_like\n",
    "\n",
    "# #         return nl_post\n",
    "    \n",
    "#     def _tree_flatten(self):\n",
    "#         children = (\n",
    "# #                     self.qi, \n",
    "# #                     self.q,\n",
    "#                    )  # arrays / dynamic values\n",
    "#         aux_data = {'qi': self.qi,\n",
    "#                     'true_values': self.true_values,\n",
    "#                     'times': self.times,\n",
    "#                     'times_fine': self.times_fine,\n",
    "#                     'freqs': self.freqs,\n",
    "#                     'n_ant': self.n_ant,\n",
    "#                     'n_int_samples': self.n_int_samples,\n",
    "#                     'n_rfi_time': self.n_rfi_time,\n",
    "#                     'n_g_time': self.n_g_time,\n",
    "#                     'n_vis_time': self.n_vis_time,\n",
    "#                     'n_bl': self.n_bl,\n",
    "#                     'scalings': self.scalings,\n",
    "#                     'inv_scalings': self.scalings,\n",
    "#                     'noise': self.noise,\n",
    "#                     'vis_obs': self.vis_obs,\n",
    "#                     'ants_xyz': self.ants_xyz,\n",
    "#                     'phase_corrections': self.phase_corrections,\n",
    "#                     'resamplings': self.resamplings,\n",
    "#                     'antenna1': self.antenna1,\n",
    "#                     'antenna2': self.antenna2,\n",
    "# #                     'baselines': self.baselines\n",
    "# #                     'n_time': self.n_time,\n",
    "# #                     'n_rfi_time': self.n_rfi_time,\n",
    "# #                     'true_values': self.true_values,\n",
    "#                    }  # static values\n",
    "#         return (children, aux_data)\n",
    "\n",
    "#     @classmethod\n",
    "#     def _tree_unflatten(cls, aux_data, children):\n",
    "#         return cls(*children, **aux_data)\n",
    "\n",
    "# from jax import tree_util\n",
    "# tree_util.register_pytree_node(tabascal,\n",
    "#                                tabascal._tree_flatten,\n",
    "#                                tabascal._tree_unflatten)"
   ]
  },
  {
   "cell_type": "code",
   "execution_count": 5,
   "id": "4baeb16d",
   "metadata": {},
   "outputs": [],
   "source": [
    "# scalings = {'g_amp': jnp.array([100.]),\n",
    "#             'g_phase': jnp.rad2deg(1.),\n",
    "#             'rfi_orbit': jnp.diag(jnp.array([1e-2, 3600e0, 3600e1, 3600e1]))}\n",
    "\n",
    "# inv_scalings = tree_map(lambda x: jnp.linalg.inv(x) if x.ndim==2 else 1./x, scalings)\n",
    "\n",
    "# Nt_fine = len(tar.times_fine)\n",
    "# #####\n",
    "# Nt_g = N_int_samples*45\n",
    "# g_idx = jnp.array(list(np.arange(0, Nt_fine, Nt_g)) + \\\n",
    "#                 [Nt_fine-1,])\n",
    "# times_g = tar.times_fine[g_idx]\n",
    "# N_g_time = len(times_g)\n",
    "# G = tar.gains_ants[g_idx,:,0].T\n",
    "# #####\n",
    "# Nt_rfi = 2**5\n",
    "# rfi_idx = jnp.array(list(np.arange(0, Nt_fine, Nt_rfi)) + \\\n",
    "#                 [Nt_fine-1,])\n",
    "# times_rfi = tar.times_fine[rfi_idx]\n",
    "# N_rfi_time = len(times_rfi)\n",
    "# rfi_A = tar.rfi_A_app[rfi_idx,:,0].T\n",
    "# ######\n",
    "# Nt_vis = 150\n",
    "# vis_idx = jnp.array(list(np.arange(0, Nt_fine, Nt_vis)) + \\\n",
    "#                 [Nt_fine-1,])\n",
    "# times_vis = tar.times_fine[vis_idx]\n",
    "# N_vis_time = len(times_vis)\n",
    "# vis_ast = tar.vis_ast[vis_idx,:,0].T\n",
    "# ######\n",
    "# true_values = {'g_amp': {i: x for i, x in enumerate(jnp.abs(G))},\n",
    "#                'g_phase': {i: x for i, x in enumerate(jnp.angle(G[:-1]))},\n",
    "#                'rfi_amp': {i: x for i, x in enumerate(rfi_A)},\n",
    "#                'rfi_orbit': tar.rfi_orbit,\n",
    "#                'v_real': {i: x for i, x in enumerate(vis_ast.real)},\n",
    "#                'v_imag': {i: x for i, x in enumerate(vis_ast.imag)}\n",
    "#                }\n",
    "\n",
    "# def l_from_uv(uv, l0=7e2, a=6e-4):\n",
    "#     return l0*jnp.exp(-a*uv)\n",
    "\n",
    "# a1, a2 = jnp.triu_indices(N_ant, 1)\n",
    "# mag_uvw = jnp.linalg.norm(tar.ants_uvw[0, a1] - tar.ants_uvw[0, a2], axis=-1)\n",
    "# vis_var = (jnp.abs(tar.vis_ast).max(axis=(0,2)) + noise)**2\n",
    "# vis_l = l_from_uv(mag_uvw, l0=5e2)\n",
    "\n",
    "# g_amp_var = (0.01*scalings['g_amp'])**2\n",
    "# g_phase_var = (jnp.deg2rad(1.)*scalings['g_phase'])**2\n",
    "# g_l = 5e2\n",
    "\n",
    "# rfi_var, rfi_l = 1e6, 15.\n",
    "\n",
    "# resamplings = {'resample_vis': vmap(resampling_kernel, \n",
    "#                                     in_axes=(None,None,0,0,None))(times_vis, \n",
    "#                                                                   tar.times, \n",
    "#                                                                   vis_var, vis_l, 1e-3),\n",
    "#                 'resample_g_amp': resampling_kernel(times_g, \n",
    "#                                                     tar.times, \n",
    "#                                                     g_amp_var, g_l, 1e-8),\n",
    "#                 'resample_g_phase': resampling_kernel(times_g, \n",
    "#                                                       tar.times, \n",
    "#                                                       g_phase_var, g_l, 1e-8),\n",
    "#                 'resample_rfi': resampling_kernel(times_rfi, \n",
    "#                                                   tar.times_fine, \n",
    "#                                                   rfi_var, rfi_l, 1e-6)\n",
    "#               }"
   ]
  },
  {
   "cell_type": "code",
   "execution_count": 6,
   "id": "c1f0ce60",
   "metadata": {},
   "outputs": [],
   "source": [
    "# tab = tabascal(n_ant=tar.n_ants, times=tar.times, times_fine=tar.times_fine, freqs=tar.freqs, \n",
    "#                qi=true_values, n_int_samples=tar.n_int_samples, n_rfi_time=N_rfi_time, \n",
    "#                n_g_time=N_g_time, n_vis_time=N_vis_time, n_bl=tar.n_bl, noise=tar.noise,\n",
    "#                scalings=scalings, inv_scalings=inv_scalings, vis_obs=tar.vis_obs, \n",
    "#                ants_xyz=tar.ants_xyz, phase_corrections=tar.ants_uvw[...,-1], \n",
    "#                resamplings=resamplings, true_values=true_values, \n",
    "#                antenna1=tar.a1, antenna2=tar.a2)"
   ]
  },
  {
   "cell_type": "code",
   "execution_count": 7,
   "id": "6e1976eb",
   "metadata": {},
   "outputs": [],
   "source": [
    "# tab.rfi_closures(true_values, np.arange(2))[0].shape"
   ]
  },
  {
   "cell_type": "code",
   "execution_count": 8,
   "id": "c57b6310",
   "metadata": {},
   "outputs": [],
   "source": [
    "# plt.plot(tab.model(0, 1, 0))"
   ]
  },
  {
   "cell_type": "code",
   "execution_count": 9,
   "id": "02c3a265",
   "metadata": {},
   "outputs": [],
   "source": [
    "# tab.U()"
   ]
  }
 ],
 "metadata": {
  "kernelspec": {
   "display_name": "Python [conda env:tabascal]",
   "language": "python",
   "name": "conda-env-tabascal-py"
  },
  "language_info": {
   "codemirror_mode": {
    "name": "ipython",
    "version": 3
   },
   "file_extension": ".py",
   "mimetype": "text/x-python",
   "name": "python",
   "nbconvert_exporter": "python",
   "pygments_lexer": "ipython3",
   "version": "3.8.15"
  },
  "vscode": {
   "interpreter": {
    "hash": "e0650b3882b98790456bb3d0e4ef8ef3b31c3d710e73b5a42a1c9b068ed524e9"
   }
  }
 },
 "nbformat": 4,
 "nbformat_minor": 5
}
