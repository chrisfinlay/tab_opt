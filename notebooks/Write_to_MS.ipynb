{
 "cells": [
  {
   "cell_type": "code",
   "execution_count": 1,
   "id": "fedd3e00-4f9f-440d-863d-794b33788a7f",
   "metadata": {},
   "outputs": [],
   "source": [
    "import matplotlib.pyplot as plt\n",
    "import numpy as np"
   ]
  },
  {
   "cell_type": "code",
   "execution_count": 2,
   "id": "e2663faa-1035-4987-b5d0-5568d46d7757",
   "metadata": {},
   "outputs": [
    {
     "ename": "ModuleNotFoundError",
     "evalue": "No module named 'daskms'",
     "output_type": "error",
     "traceback": [
      "\u001b[0;31m---------------------------------------------------------------------------\u001b[0m",
      "\u001b[0;31mModuleNotFoundError\u001b[0m                       Traceback (most recent call last)",
      "Cell \u001b[0;32mIn[2], line 1\u001b[0m\n\u001b[0;32m----> 1\u001b[0m \u001b[38;5;28;01mfrom\u001b[39;00m \u001b[38;5;21;01mdaskms\u001b[39;00m \u001b[38;5;28;01mimport\u001b[39;00m xds_to_table, xds_from_ms\n\u001b[1;32m      3\u001b[0m \u001b[38;5;28;01mimport\u001b[39;00m \u001b[38;5;21;01mdask\u001b[39;00m\u001b[38;5;21;01m.\u001b[39;00m\u001b[38;5;21;01marray\u001b[39;00m \u001b[38;5;28;01mas\u001b[39;00m \u001b[38;5;21;01mda\u001b[39;00m\n\u001b[1;32m      4\u001b[0m \u001b[38;5;28;01mimport\u001b[39;00m \u001b[38;5;21;01mdask\u001b[39;00m\n",
      "\u001b[0;31mModuleNotFoundError\u001b[0m: No module named 'daskms'"
     ]
    }
   ],
   "source": [
    "from daskms import xds_to_table, xds_from_ms\n",
    "\n",
    "import dask.array as da\n",
    "import dask"
   ]
  },
  {
   "cell_type": "code",
   "execution_count": 3,
   "id": "43aa6665-10d0-4c0a-9ef0-dba6bcb47d1d",
   "metadata": {},
   "outputs": [],
   "source": [
    "ms_file = '/Users/chrisfinlay/Documents/PhD/tabascal/tabascal/examples/data/calibrator_obs_08A_150T-0000-0298_128I_001F-1.227e+09-1.227e+09_001AST_1SAT_0GRD_test.ms/'\n",
    "xds  = xds_from_ms(ms_file)"
   ]
  },
  {
   "cell_type": "code",
   "execution_count": 4,
   "id": "5add780f-4032-4d80-90a9-e6287d292945",
   "metadata": {},
   "outputs": [],
   "source": [
    "n_time = np.unique(xds[0].TIME.compute()).size\n",
    "n_bl = xds[0].TIME.compute().size // n_time"
   ]
  },
  {
   "cell_type": "code",
   "execution_count": 5,
   "id": "05d004e2-ca8e-406b-8748-d6ec0b51fd8b",
   "metadata": {},
   "outputs": [
    {
     "data": {
      "text/plain": [
       "(150, 28)"
      ]
     },
     "execution_count": 5,
     "metadata": {},
     "output_type": "execute_result"
    }
   ],
   "source": [
    "n_time, n_bl"
   ]
  },
  {
   "cell_type": "code",
   "execution_count": 6,
   "id": "dbc384fb-5f55-4f7c-aa32-a1e03fca5b2f",
   "metadata": {},
   "outputs": [],
   "source": [
    "corr_data = np.ones((1, n_bl, n_time)).astype(complex)\n",
    "# corr_data = np.arange(n_time)[None,None,:]*corr_data\n",
    "\n",
    "corr_data_flat = corr_data[0].T.flatten()\n",
    "\n",
    "corr_data_ms = corr_data[0].T.flatten()[:,None,None]"
   ]
  },
  {
   "cell_type": "code",
   "execution_count": 7,
   "id": "16eb0f72-ad91-4500-a0da-e7122ce35f52",
   "metadata": {},
   "outputs": [
    {
     "name": "stderr",
     "output_type": "stream",
     "text": [
      "/Users/chrisfinlay/mambaforge/envs/tabascal/lib/python3.8/site-packages/matplotlib/cbook/__init__.py:1369: ComplexWarning: Casting complex values to real discards the imaginary part\n",
      "  return np.asarray(x, float)\n"
     ]
    },
    {
     "data": {
      "text/plain": [
       "[<matplotlib.lines.Line2D at 0x14c335c70>]"
      ]
     },
     "execution_count": 7,
     "metadata": {},
     "output_type": "execute_result"
    },
    {
     "data": {
      "image/png": "[encoded data removed]",
      "text/plain": [
       "<Figure size 640x480 with 1 Axes>"
      ]
     },
     "metadata": {},
     "output_type": "display_data"
    }
   ],
   "source": [
    "plt.plot(xds[0].TIME[:3*n_bl])\n",
    "plt.plot(corr_data_flat[:3*n_bl])"
   ]
  },
  {
   "cell_type": "code",
   "execution_count": 10,
   "id": "0c39cd19-29fc-4282-87f0-96f3e92069cc",
   "metadata": {},
   "outputs": [
    {
     "data": {
      "text/plain": [
       "array(0.21906719+0.5605229j, dtype=complex64)"
      ]
     },
     "execution_count": 10,
     "metadata": {},
     "output_type": "execute_result"
    }
   ],
   "source": [
    "(xds[0].DATA.compute()).mean().data"
   ]
  },
  {
   "cell_type": "code",
   "execution_count": 9,
   "id": "1194b034-1065-4033-86df-8bc1140014e2",
   "metadata": {},
   "outputs": [
    {
     "data": {
      "text/plain": [
       "array(1.+0.j, dtype=complex64)"
      ]
     },
     "execution_count": 9,
     "metadata": {},
     "output_type": "execute_result"
    }
   ],
   "source": [
    "(xds[0].CORRECTED_DATA.compute()).mean().data"
   ]
  },
  {
   "cell_type": "code",
   "execution_count": 10,
   "id": "b4895191-f6c5-4f5a-acf4-f4a852df1a34",
   "metadata": {},
   "outputs": [
    {
     "data": {
      "text/plain": [
       "([<xarray.Dataset>\n",
       "  Dimensions:         (row: 1, chan: 1, corr: 1)\n",
       "  Dimensions without coordinates: row, chan, corr\n",
       "  Data variables:\n",
       "      CORRECTED_DATA  (row, chan, corr) bool True\n",
       "  Attributes:\n",
       "      __daskms_partition_schema__:  (('FIELD_ID', 'int32'), ('DATA_DESC_ID', 'i...\n",
       "      FIELD_ID:                     0\n",
       "      DATA_DESC_ID:                 0],)"
      ]
     },
     "execution_count": 10,
     "metadata": {},
     "output_type": "execute_result"
    }
   ],
   "source": [
    "xds = [xds[0].assign(CORRECTED_DATA=((\"row\", \"chan\", \"corr\"), da.asarray(corr_data_flat[:,None,None]))),]\n",
    "writes = xds_to_table(xds, ms_file, [\"CORRECTED_DATA\"])\n",
    "dask.compute(writes)"
   ]
  },
  {
   "cell_type": "code",
   "execution_count": 11,
   "id": "45ce6c03-01a8-40ff-b19a-8aad703fa628",
   "metadata": {},
   "outputs": [],
   "source": [
    "from daskms import xds_to_table, xds_from_ms\n",
    "\n",
    "import dask.array as da\n",
    "import dask\n",
    "\n",
    "\n",
    "ms_file = '/Users/chrisfinlay/Documents/PhD/tabascal/tabascal/examples/data/calibrator_obs_08A_150T-0000-0298_128I_001F-1.227e+09-1.227e+09_001AST_1SAT_0GRD_test.ms/'\n",
    "xds  = xds_from_ms(ms_file)\n",
    "\n",
    "\n",
    "\n",
    "xds = [xds[0].assign(CORRECTED_DATA=((\"row\", \"chan\", \"corr\"), da.asarray(corr_data_flat[:,None,None]))),]\n",
    "writes = xds_to_table(xds, ms_file, [\"CORRECTED_DATA\"])\n",
    "dask.compute(writes)"
   ]
  },
  {
   "cell_type": "code",
   "execution_count": 12,
   "id": "675045c8-8d49-4d02-82e7-fa4909e1ac5b",
   "metadata": {},
   "outputs": [
    {
     "data": {
      "text/plain": [
       "([<xarray.Dataset>\n",
       "  Dimensions:         (row: 1, chan: 1, corr: 1)\n",
       "  Dimensions without coordinates: row, chan, corr\n",
       "  Data variables:\n",
       "      CORRECTED_DATA  (row, chan, corr) bool True\n",
       "  Attributes:\n",
       "      __daskms_partition_schema__:  (('FIELD_ID', 'int32'), ('DATA_DESC_ID', 'i...\n",
       "      FIELD_ID:                     0\n",
       "      DATA_DESC_ID:                 0],)"
      ]
     },
     "execution_count": 12,
     "metadata": {},
     "output_type": "execute_result"
    }
   ],
   "source": []
  },
  {
   "cell_type": "code",
   "execution_count": 4,
   "id": "0b242db7-a183-4984-a5e3-3d90e526f3f3",
   "metadata": {},
   "outputs": [
    {
     "ename": "ImportError",
     "evalue": "attempted relative import with no known parent package",
     "output_type": "error",
     "traceback": [
      "\u001b[0;31m---------------------------------------------------------------------------\u001b[0m",
      "\u001b[0;31mImportError\u001b[0m                               Traceback (most recent call last)",
      "Cell \u001b[0;32mIn[4], line 1\u001b[0m\n\u001b[0;32m----> 1\u001b[0m \u001b[38;5;28;01mfrom\u001b[39;00m \u001b[38;5;21;01m.\u001b[39;00m\u001b[38;5;21;01m.\u001b[39;00m\u001b[38;5;21;01mtab_opt\u001b[39;00m \u001b[38;5;28;01mimport\u001b[39;00m image\n",
      "\u001b[0;31mImportError\u001b[0m: attempted relative import with no known parent package"
     ]
    }
   ],
   "source": [
    "from ..tab_opt import image"
   ]
  },
  {
   "cell_type": "code",
   "execution_count": null,
   "id": "764d5a08-fbe2-46ce-91e7-3f6ff6b9642c",
   "metadata": {},
   "outputs": [],
   "source": [
    "pd.re"
   ]
  },
  {
   "cell_type": "code",
   "execution_count": null,
   "id": "83d45090-b514-40c5-9d34-dfe2f66b19c0",
   "metadata": {},
   "outputs": [],
   "source": [
    "!ls /Users/chrisfinlay/Documents/PhD/tabascal/tabascal/examples/data/ta\n"
   ]
  }
 ],
 "metadata": {
  "kernelspec": {
   "display_name": "Python [conda env:mamba_x86-pybdsf]",
   "language": "python",
   "name": "conda-env-mamba_x86-pybdsf-py"
  },
  "language_info": {
   "codemirror_mode": {
    "name": "ipython",
    "version": 3
   },
   "file_extension": ".py",
   "mimetype": "text/x-python",
   "name": "python",
   "nbconvert_exporter": "python",
   "pygments_lexer": "ipython3",
   "version": "3.8.17"
  }
 },
 "nbformat": 4,
 "nbformat_minor": 5
}
