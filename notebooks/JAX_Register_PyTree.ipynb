{
 "cells": [
  {
   "cell_type": "code",
   "execution_count": 2,
   "id": "f6fab8f7-c97c-4d6e-91f4-91f71004fe6d",
   "metadata": {},
   "outputs": [],
   "source": [
    "import jax.numpy as jnp"
   ]
  },
  {
   "cell_type": "code",
   "execution_count": 40,
   "id": "6615213b-f185-4fdc-87e8-1595240e5465",
   "metadata": {},
   "outputs": [],
   "source": [
    "from jax import jit, grad, vmap"
   ]
  },
  {
   "cell_type": "code",
   "execution_count": 36,
   "id": "c159eb7f-64b1-47c3-b0ac-67e4fc919cb6",
   "metadata": {},
   "outputs": [],
   "source": [
    "from jax.tree_util import register_pytree_node_class\n",
    "\n",
    "@register_pytree_node_class\n",
    "class Parameters():\n",
    "    def __init__(self, gains, vis):\n",
    "        self.gains = gains\n",
    "        self.vis = vis\n",
    "        \n",
    "    def __repr__(self):\n",
    "        return f\"Parameters(gains={self.gains}, vis={self.vis})\"\n",
    "\n",
    "    def tree_flatten(self):\n",
    "        children = (self.gains, self.vis)#tuple([x for x in self.gains.values()] + [x for x in self.vis.values()])\n",
    "        aux_data = None\n",
    "        return (children, aux_data)\n",
    "\n",
    "    @classmethod\n",
    "    def tree_unflatten(cls, aux_data, children):\n",
    "        return cls(*children)"
   ]
  },
  {
   "cell_type": "code",
   "execution_count": 37,
   "id": "a84eb8d6-84fc-4c60-8e3a-71c17cdd5fa7",
   "metadata": {},
   "outputs": [],
   "source": [
    "params = Parameters(gains={0: 0. + jnp.arange(4), 1: 3. + jnp.arange(3)},\n",
    "                    vis={0: 1. + jnp.arange(4), 1: 2. + jnp.arange(3)})"
   ]
  },
  {
   "cell_type": "code",
   "execution_count": 38,
   "id": "d47a4cd0-1411-4327-a0d5-7b9aea653de1",
   "metadata": {},
   "outputs": [],
   "source": [
    "# @jit\n",
    "def add(params, i):\n",
    "    return jnp.sum(params.vis[i] * params.gains[i])"
   ]
  },
  {
   "cell_type": "code",
   "execution_count": 41,
   "id": "6defaf98-8713-4af6-b5f9-1cf5112e3814",
   "metadata": {},
   "outputs": [
    {
     "ename": "TypeError",
     "evalue": "unhashable type: 'BatchTracer'",
     "output_type": "error",
     "traceback": [
      "\u001b[0;31m---------------------------------------------------------------------------\u001b[0m",
      "\u001b[0;31mTypeError\u001b[0m                                 Traceback (most recent call last)",
      "Cell \u001b[0;32mIn[41], line 1\u001b[0m\n\u001b[0;32m----> 1\u001b[0m \u001b[43mvmap\u001b[49m\u001b[43m(\u001b[49m\u001b[43mgrad\u001b[49m\u001b[43m(\u001b[49m\u001b[43madd\u001b[49m\u001b[43m)\u001b[49m\u001b[43m,\u001b[49m\u001b[43m \u001b[49m\u001b[43min_axes\u001b[49m\u001b[38;5;241;43m=\u001b[39;49m\u001b[43m(\u001b[49m\u001b[38;5;28;43;01mNone\u001b[39;49;00m\u001b[43m,\u001b[49m\u001b[38;5;241;43m0\u001b[39;49m\u001b[43m)\u001b[49m\u001b[43m)\u001b[49m\u001b[43m(\u001b[49m\u001b[43mparams\u001b[49m\u001b[43m,\u001b[49m\u001b[43m \u001b[49m\u001b[43mjnp\u001b[49m\u001b[38;5;241;43m.\u001b[39;49m\u001b[43marange\u001b[49m\u001b[43m(\u001b[49m\u001b[38;5;241;43m2\u001b[39;49m\u001b[43m)\u001b[49m\u001b[43m)\u001b[49m\n",
      "    \u001b[0;31m[... skipping hidden 13 frame]\u001b[0m\n",
      "Cell \u001b[0;32mIn[38], line 3\u001b[0m, in \u001b[0;36madd\u001b[0;34m(params, i)\u001b[0m\n\u001b[1;32m      2\u001b[0m \u001b[38;5;28;01mdef\u001b[39;00m \u001b[38;5;21madd\u001b[39m(params, i):\n\u001b[0;32m----> 3\u001b[0m     \u001b[38;5;28;01mreturn\u001b[39;00m jnp\u001b[38;5;241m.\u001b[39msum(\u001b[43mparams\u001b[49m\u001b[38;5;241;43m.\u001b[39;49m\u001b[43mvis\u001b[49m\u001b[43m[\u001b[49m\u001b[43mi\u001b[49m\u001b[43m]\u001b[49m \u001b[38;5;241m*\u001b[39m params\u001b[38;5;241m.\u001b[39mgains[i])\n",
      "\u001b[0;31mTypeError\u001b[0m: unhashable type: 'BatchTracer'"
     ]
    }
   ],
   "source": [
    "vmap(grad(add), in_axes=(None,0))(params, jnp.arange(2))"
   ]
  },
  {
   "cell_type": "code",
   "execution_count": null,
   "id": "db0b9f0d-90e2-4500-b20f-2a50c0bb1cbc",
   "metadata": {},
   "outputs": [],
   "source": []
  }
 ],
 "metadata": {
  "kernelspec": {
   "display_name": "Python [conda env:tabascal]",
   "language": "python",
   "name": "conda-env-tabascal-py"
  },
  "language_info": {
   "codemirror_mode": {
    "name": "ipython",
    "version": 3
   },
   "file_extension": ".py",
   "mimetype": "text/x-python",
   "name": "python",
   "nbconvert_exporter": "python",
   "pygments_lexer": "ipython3",
   "version": "3.8.15"
  }
 },
 "nbformat": 4,
 "nbformat_minor": 5
}
