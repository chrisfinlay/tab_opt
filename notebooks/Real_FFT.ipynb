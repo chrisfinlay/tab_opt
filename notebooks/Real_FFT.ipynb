{
 "cells": [
  {
   "cell_type": "code",
   "execution_count": 1,
   "id": "aa64a1ce-5f4a-4c42-940c-be6cb565299a",
   "metadata": {},
   "outputs": [],
   "source": [
    "import matplotlib.pyplot as plt\n",
    "import numpy as np"
   ]
  },
  {
   "cell_type": "code",
   "execution_count": 2,
   "id": "693c5c59-480f-47eb-94f3-4a671ee74cad",
   "metadata": {},
   "outputs": [],
   "source": [
    "np.set_printoptions(formatter={'float': lambda x: f\"{x:0.2f}\"})"
   ]
  },
  {
   "cell_type": "code",
   "execution_count": 3,
   "id": "68f35d52-3ff2-43ff-989b-b87a04ddde17",
   "metadata": {},
   "outputs": [],
   "source": [
    "N = 2**3\n",
    "x = np.linspace(-1, 1, N)\n",
    "dx = np.diff(x)[0]\n",
    "k_r = np.fft.rfftfreq(N, dx)\n",
    "k = np.fft.fftfreq(N, dx)"
   ]
  },
  {
   "cell_type": "code",
   "execution_count": 4,
   "id": "96fb955d-5afa-4189-9044-54c17cf9d565",
   "metadata": {},
   "outputs": [],
   "source": [
    "y = 4*x**3 - 3*x**2 + 2*x + 4"
   ]
  },
  {
   "cell_type": "code",
   "execution_count": 5,
   "id": "578a87c7-a4ad-46cb-a447-f04bbfef48e8",
   "metadata": {},
   "outputs": [
    {
     "data": {
      "text/plain": [
       "[<matplotlib.lines.Line2D at 0x1278a69a0>]"
      ]
     },
     "execution_count": 5,
     "metadata": {},
     "output_type": "execute_result"
    },
    {
     "data": {
      "image/png": "[encoded data removed]",
      "text/plain": [
       "<Figure size 640x480 with 1 Axes>"
      ]
     },
     "metadata": {},
     "output_type": "display_data"
    }
   ],
   "source": [
    "plt.plot(x, y, '.-')"
   ]
  },
  {
   "cell_type": "code",
   "execution_count": 6,
   "id": "468e0b96-4f19-487e-93d5-2b80fd2836c8",
   "metadata": {},
   "outputs": [],
   "source": [
    "Y_r = np.fft.rfft(y)\n",
    "Y = np.fft.fft(y)"
   ]
  },
  {
   "cell_type": "code",
   "execution_count": 7,
   "id": "85ee78fb-5815-4346-a445-10c2400dfeb7",
   "metadata": {},
   "outputs": [
    {
     "name": "stdout",
     "output_type": "stream",
     "text": [
      "[ 21.71428571+0.j         -10.42359623+9.01594032j\n",
      "  -8.39650146+6.43731778j  -8.04870698+2.85850592j\n",
      "  -7.97667638+0.j        ]\n"
     ]
    }
   ],
   "source": [
    "print(Y_r)"
   ]
  },
  {
   "cell_type": "code",
   "execution_count": 8,
   "id": "9b665383-974c-40fc-acfc-820dd7724513",
   "metadata": {},
   "outputs": [
    {
     "name": "stdout",
     "output_type": "stream",
     "text": [
      "[ 21.71428571+0.j         -10.42359623+9.01594032j\n",
      "  -8.39650146+6.43731778j  -8.04870698+2.85850592j\n",
      "  -7.97667638+0.j          -8.04870698-2.85850592j\n",
      "  -8.39650146-6.43731778j -10.42359623-9.01594032j]\n"
     ]
    }
   ],
   "source": [
    "print(Y)"
   ]
  },
  {
   "cell_type": "code",
   "execution_count": 9,
   "id": "c93fb22d-26a3-47dc-ad48-695e5781b47d",
   "metadata": {},
   "outputs": [
    {
     "data": {
      "text/plain": [
       "array([0.+0.j, 0.+0.j, 0.+0.j, 0.+0.j, 0.+0.j, 0.+0.j, 0.+0.j, 0.+0.j])"
      ]
     },
     "execution_count": 9,
     "metadata": {},
     "output_type": "execute_result"
    }
   ],
   "source": [
    "np.concatenate([Y[:N//2+1], np.conjugate(Y[N//2-1:0:-1])]) - Y"
   ]
  },
  {
   "cell_type": "code",
   "execution_count": 12,
   "id": "54892db0-7915-4cfd-9efd-ba642eb52f13",
   "metadata": {},
   "outputs": [
    {
     "data": {
      "text/plain": [
       "(array([21.71, -10.42, -8.40, -8.05, -7.98]),\n",
       " array([0.00, 9.02, 6.44, 2.86, 0.00]))"
      ]
     },
     "execution_count": 12,
     "metadata": {},
     "output_type": "execute_result"
    }
   ],
   "source": [
    "Y_r.real, Y_r.imag"
   ]
  },
  {
   "cell_type": "code",
   "execution_count": 16,
   "id": "f10eb315-34a3-4369-a099-e5fef1bca0c9",
   "metadata": {},
   "outputs": [],
   "source": [
    "Y_split = np.concatenate([Y_r.real, Y_r.imag[1:-1]])"
   ]
  },
  {
   "cell_type": "code",
   "execution_count": 17,
   "id": "8f56dc62-3781-4078-ab1c-54a1a9728e73",
   "metadata": {},
   "outputs": [
    {
     "data": {
      "text/plain": [
       "(8,)"
      ]
     },
     "execution_count": 17,
     "metadata": {},
     "output_type": "execute_result"
    }
   ],
   "source": [
    "Y_split.shape"
   ]
  },
  {
   "cell_type": "code",
   "execution_count": 58,
   "id": "5209d884-7e45-437a-add9-51e476c3eb55",
   "metadata": {},
   "outputs": [],
   "source": [
    "def construct_real_fourier(x):\n",
    "    N = len(x)\n",
    "    x_r = x[:N//2+1] + 1.j*np.concatenate([np.zeros(1), x[N//2+1:], np.zeros(1)])\n",
    "    x_recon = np.concatenate([x_r[:N//2+1], np.conjugate(x_r[-2:0:-1])])\n",
    "    return x_recon"
   ]
  },
  {
   "cell_type": "code",
   "execution_count": 28,
   "id": "dc130122-4b62-47d5-961e-c64e307cbb25",
   "metadata": {},
   "outputs": [
    {
     "data": {
      "text/plain": [
       "array([ 21.71428571+0.j        , -10.42359623+9.01594032j,\n",
       "        -8.39650146+6.43731778j,  -8.04870698+2.85850592j,\n",
       "        -7.97667638+0.j        ])"
      ]
     },
     "execution_count": 28,
     "metadata": {},
     "output_type": "execute_result"
    }
   ],
   "source": [
    "Y_recon"
   ]
  },
  {
   "cell_type": "code",
   "execution_count": 25,
   "id": "28386d9c-c018-464e-b6be-99b46e00ffb5",
   "metadata": {},
   "outputs": [
    {
     "data": {
      "text/plain": [
       "array([21.71, -10.42, -8.40, -8.05, -7.98, 9.02, 6.44, 2.86])"
      ]
     },
     "execution_count": 25,
     "metadata": {},
     "output_type": "execute_result"
    }
   ],
   "source": [
    "Y_split"
   ]
  },
  {
   "cell_type": "code",
   "execution_count": 57,
   "id": "3149c6ab-2f7f-4956-a6c5-82fd2b74272b",
   "metadata": {},
   "outputs": [
    {
     "name": "stdout",
     "output_type": "stream",
     "text": [
      "(5,)\n"
     ]
    },
    {
     "data": {
      "text/plain": [
       "array([0.+0.0000000e+00j, 0.+0.0000000e+00j, 0.+0.0000000e+00j,\n",
       "       0.-8.8817842e-16j, 0.+0.0000000e+00j, 0.+8.8817842e-16j,\n",
       "       0.+0.0000000e+00j, 0.+0.0000000e+00j])"
      ]
     },
     "execution_count": 57,
     "metadata": {},
     "output_type": "execute_result"
    }
   ],
   "source": [
    "construct_real_fourier(Y_split) - Y"
   ]
  },
  {
   "cell_type": "code",
   "execution_count": 31,
   "id": "20fcab51-215a-4f53-a11b-d04b01cda887",
   "metadata": {},
   "outputs": [
    {
     "data": {
      "text/plain": [
       "array([ 21.71428571+0.j        , -10.42359623+9.01594032j,\n",
       "        -8.39650146+6.43731778j,  -8.04870698+2.85850592j,\n",
       "        -7.97667638+0.j        ])"
      ]
     },
     "execution_count": 31,
     "metadata": {},
     "output_type": "execute_result"
    }
   ],
   "source": [
    "Y_r"
   ]
  },
  {
   "cell_type": "code",
   "execution_count": 36,
   "id": "ca7812e9-2bbf-47b1-a121-e62a0548c68f",
   "metadata": {},
   "outputs": [
    {
     "data": {
      "text/plain": [
       "array([ 21.71428571+0.j        , -10.42359623+9.01594032j,\n",
       "        -8.39650146+6.43731778j,  -8.04870698+2.85850592j,\n",
       "        -7.97667638+0.j        ])"
      ]
     },
     "execution_count": 36,
     "metadata": {},
     "output_type": "execute_result"
    }
   ],
   "source": [
    "Y[:N//2+1]"
   ]
  },
  {
   "cell_type": "code",
   "execution_count": 37,
   "id": "ab64fde8-f9d3-4be3-b5a2-fc8a799ef237",
   "metadata": {},
   "outputs": [
    {
     "data": {
      "text/plain": [
       "array([ -8.04870698-2.85850592j,  -8.39650146-6.43731778j,\n",
       "       -10.42359623-9.01594032j])"
      ]
     },
     "execution_count": 37,
     "metadata": {},
     "output_type": "execute_result"
    }
   ],
   "source": [
    "Y[N//2+1:]"
   ]
  },
  {
   "cell_type": "code",
   "execution_count": null,
   "id": "a4b329e1-a23c-4872-8dd4-18527b90c2c5",
   "metadata": {},
   "outputs": [],
   "source": []
  },
  {
   "cell_type": "code",
   "execution_count": 45,
   "id": "9f44e5c6-3901-4418-be88-591da328876a",
   "metadata": {},
   "outputs": [
    {
     "data": {
      "text/plain": [
       "array([ -8.04870698-2.85850592j,  -8.39650146-6.43731778j,\n",
       "       -10.42359623-9.01594032j])"
      ]
     },
     "execution_count": 45,
     "metadata": {},
     "output_type": "execute_result"
    }
   ],
   "source": [
    "np.conjugate(Y[1:N//2])[::-1]"
   ]
  },
  {
   "cell_type": "code",
   "execution_count": 51,
   "id": "7ed1a241-3684-4c8d-a625-e4c3dc2221ff",
   "metadata": {},
   "outputs": [
    {
     "data": {
      "text/plain": [
       "array([ -8.04870698-2.85850592j,  -8.39650146-6.43731778j,\n",
       "       -10.42359623-9.01594032j])"
      ]
     },
     "execution_count": 51,
     "metadata": {},
     "output_type": "execute_result"
    }
   ],
   "source": [
    "np.conjugate(Y_r[-2:0:-1])"
   ]
  },
  {
   "cell_type": "code",
   "execution_count": null,
   "id": "c433db01-621b-45bf-8a5e-7c180c8ae745",
   "metadata": {},
   "outputs": [],
   "source": []
  }
 ],
 "metadata": {
  "kernelspec": {
   "display_name": "Python [conda env:tabascal]",
   "language": "python",
   "name": "conda-env-tabascal-py"
  },
  "language_info": {
   "codemirror_mode": {
    "name": "ipython",
    "version": 3
   },
   "file_extension": ".py",
   "mimetype": "text/x-python",
   "name": "python",
   "nbconvert_exporter": "python",
   "pygments_lexer": "ipython3",
   "version": "3.8.15"
  }
 },
 "nbformat": 4,
 "nbformat_minor": 5
}
